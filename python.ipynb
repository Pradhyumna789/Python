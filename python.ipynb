{
 "cells": [
  {
   "cell_type": "code",
   "execution_count": null,
   "id": "0031b0ee",
   "metadata": {},
   "outputs": [],
   "source": [
    "Find X raised to power N\n",
    "Send Feedback\n",
    "You are given two integers: X and N. You have to calculate X raised to power N and print it.\n",
    "Input format:\n",
    "The first line of input contains an integer X (1 <= X <= 100)\n",
    "The second line of input contains an integer N (1 <= N <= 10) \n",
    "Constraints:\n",
    "Time Limit: 1 second\n",
    "Output format:\n",
    "The first and only line of output contains the result.  \n",
    "Sample Input:\n",
    "10\n",
    "4\n",
    "Sample Output:\n",
    "10000"
   ]
  },
  {
   "cell_type": "code",
   "execution_count": 3,
   "id": "f3afc26f",
   "metadata": {},
   "outputs": [
    {
     "name": "stdout",
     "output_type": "stream",
     "text": [
      "2\n",
      "3\n",
      "8\n"
     ]
    }
   ],
   "source": [
    "x = int(input())\n",
    "n = int(input())\n",
    "\n",
    "print(x**n)"
   ]
  }
 ],
 "metadata": {
  "kernelspec": {
   "display_name": "Python 3 (ipykernel)",
   "language": "python",
   "name": "python3"
  },
  "language_info": {
   "codemirror_mode": {
    "name": "ipython",
    "version": 3
   },
   "file_extension": ".py",
   "mimetype": "text/x-python",
   "name": "python",
   "nbconvert_exporter": "python",
   "pygments_lexer": "ipython3",
   "version": "3.9.13"
  }
 },
 "nbformat": 4,
 "nbformat_minor": 5
}
