{
 "cells": [
  {
   "cell_type": "markdown",
   "id": "a7e60ec5",
   "metadata": {},
   "source": [
    "### Using operators in IF-ELSE"
   ]
  },
  {
   "cell_type": "code",
   "execution_count": 2,
   "id": "a36aa79e",
   "metadata": {},
   "outputs": [
    {
     "name": "stdout",
     "output_type": "stream",
     "text": [
      "10\n",
      "20\n",
      "No they are not\n"
     ]
    }
   ],
   "source": [
    "### Let's take two numbers(a and b), if both of them are greater than 10, we will print \"yes both of them are greater than 10\", else we will print \"No they are not greater than 10\"\n",
    "\n",
    "a = int(input())\n",
    "b = int(input())\n",
    "\n",
    "c1 = a > 10\n",
    "c2 = b > 10\n",
    "\n",
    "r = c1 and c2\n",
    "if r:\n",
    "    print(\"Both > 10\")\n",
    "else:\n",
    "    print(\"No they are not\")\n",
    "    \n",
    "### down the output is \"No they are not\" because 10 is not greater than 10"
   ]
  },
  {
   "cell_type": "code",
   "execution_count": 4,
   "id": "717af1ca",
   "metadata": {},
   "outputs": [
    {
     "name": "stdout",
     "output_type": "stream",
     "text": [
      "20\n",
      "30\n",
      "Both > 10\n"
     ]
    }
   ],
   "source": [
    "a = int(input())\n",
    "b = int(input())\n",
    "\n",
    "if ((a > 10) and (b > 10)):\n",
    "    print(\"Both > 10\")\n",
    "else:\n",
    "    print(\"No they are not\")"
   ]
  },
  {
   "cell_type": "code",
   "execution_count": 7,
   "id": "264df768",
   "metadata": {},
   "outputs": [
    {
     "name": "stdout",
     "output_type": "stream",
     "text": [
      "8\n",
      "no its not 7\n"
     ]
    }
   ],
   "source": [
    "### Let's check if an input number is 7 or not\n",
    "\n",
    "a = int(input())\n",
    "\n",
    "if a == 7:\n",
    "    print(\"it is 7\")\n",
    "else:\n",
    "    print(\"no its not 7\")"
   ]
  },
  {
   "cell_type": "code",
   "execution_count": 8,
   "id": "c073a21e",
   "metadata": {},
   "outputs": [
    {
     "name": "stdout",
     "output_type": "stream",
     "text": [
      "7\n",
      "it is 7\n"
     ]
    }
   ],
   "source": [
    "a = int(input())\n",
    "\n",
    "if a != 7:\n",
    "    print(\"no its not 7\")\n",
    "else:\n",
    "    print(\"it is 7\")"
   ]
  }
 ],
 "metadata": {
  "kernelspec": {
   "display_name": "Python 3 (ipykernel)",
   "language": "python",
   "name": "python3"
  },
  "language_info": {
   "codemirror_mode": {
    "name": "ipython",
    "version": 3
   },
   "file_extension": ".py",
   "mimetype": "text/x-python",
   "name": "python",
   "nbconvert_exporter": "python",
   "pygments_lexer": "ipython3",
   "version": "3.9.13"
  }
 },
 "nbformat": 4,
 "nbformat_minor": 5
}
