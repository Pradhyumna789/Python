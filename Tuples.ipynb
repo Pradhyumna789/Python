{
 "cells": [
  {
   "cell_type": "markdown",
   "id": "9f476f45",
   "metadata": {},
   "source": [
    "# Tuples\n",
    "\n",
    "- Tuples are very similar to lists but not exactly the same\n",
    "- Tuples are used when we want to put multiple elements together in one variable, this variable will be storing the reference address to the tuple\n",
    "- If a data is needed in a program which is not supposed to be changed, then it is better to put it in 'tuples' than in 'list'. This is because lists are mutable and tuples are immutable"
   ]
  },
  {
   "cell_type": "code",
   "execution_count": 28,
   "id": "8e13a060",
   "metadata": {},
   "outputs": [],
   "source": [
    "a = (1, 2)"
   ]
  },
  {
   "cell_type": "code",
   "execution_count": 29,
   "id": "f43b0c3e",
   "metadata": {},
   "outputs": [
    {
     "name": "stdout",
     "output_type": "stream",
     "text": [
      "(1, 2)\n"
     ]
    }
   ],
   "source": [
    "print(a)"
   ]
  },
  {
   "cell_type": "code",
   "execution_count": 30,
   "id": "5ae2dab6",
   "metadata": {},
   "outputs": [
    {
     "name": "stdout",
     "output_type": "stream",
     "text": [
      "<class 'tuple'>\n"
     ]
    }
   ],
   "source": [
    "print(type(a))"
   ]
  },
  {
   "cell_type": "code",
   "execution_count": 31,
   "id": "b4a065f0",
   "metadata": {},
   "outputs": [
    {
     "name": "stdout",
     "output_type": "stream",
     "text": [
      "3\n",
      "4\n",
      "(5, 6)\n",
      "<class 'tuple'>\n"
     ]
    }
   ],
   "source": [
    "b, c = 3, 4\n",
    "\n",
    "print(b)\n",
    "print(c)\n",
    "\n",
    "e = 5, 6\n",
    "print(e)\n",
    "print(type(e))"
   ]
  },
  {
   "cell_type": "code",
   "execution_count": 32,
   "id": "1c1454c4",
   "metadata": {},
   "outputs": [
    {
     "name": "stdout",
     "output_type": "stream",
     "text": [
      "5\n",
      "6\n",
      "6\n",
      "5\n"
     ]
    }
   ],
   "source": [
    "print(e[0])\n",
    "print(e[1])\n",
    "print(e[-1]) # -1 is the last element\n",
    "print(e[-2]) # -2 is the second last element"
   ]
  },
  {
   "cell_type": "code",
   "execution_count": 33,
   "id": "e6ad58d2",
   "metadata": {},
   "outputs": [],
   "source": [
    "f = (1, 2, 3, 4, 5, 6)"
   ]
  },
  {
   "cell_type": "code",
   "execution_count": 34,
   "id": "bb500e7d",
   "metadata": {},
   "outputs": [
    {
     "data": {
      "text/plain": [
       "(4, 5, 6)"
      ]
     },
     "execution_count": 34,
     "metadata": {},
     "output_type": "execute_result"
    }
   ],
   "source": [
    "f[3:6]"
   ]
  },
  {
   "cell_type": "code",
   "execution_count": 35,
   "id": "e7ca3e66",
   "metadata": {},
   "outputs": [
    {
     "data": {
      "text/plain": [
       "(4, 5, 6)"
      ]
     },
     "execution_count": 35,
     "metadata": {},
     "output_type": "execute_result"
    }
   ],
   "source": [
    "f[3:]"
   ]
  },
  {
   "cell_type": "markdown",
   "id": "e38c520d",
   "metadata": {},
   "source": [
    "# Difference b/w tuples and lists\n",
    "\n",
    "Lists are mutable but tuples are immutable"
   ]
  },
  {
   "cell_type": "code",
   "execution_count": 36,
   "id": "525e397c",
   "metadata": {},
   "outputs": [
    {
     "ename": "TypeError",
     "evalue": "'tuple' object does not support item assignment",
     "output_type": "error",
     "traceback": [
      "\u001b[0;31m---------------------------------------------------------------------------\u001b[0m",
      "\u001b[0;31mTypeError\u001b[0m                                 Traceback (most recent call last)",
      "\u001b[0;32m/tmp/ipykernel_4670/470618057.py\u001b[0m in \u001b[0;36m<module>\u001b[0;34m\u001b[0m\n\u001b[0;32m----> 1\u001b[0;31m \u001b[0mf\u001b[0m\u001b[0;34m[\u001b[0m\u001b[0;36m4\u001b[0m\u001b[0;34m]\u001b[0m \u001b[0;34m=\u001b[0m \u001b[0;36m34\u001b[0m \u001b[0;31m# Returns an error - Tuple does not support an assignment\u001b[0m\u001b[0;34m\u001b[0m\u001b[0;34m\u001b[0m\u001b[0m\n\u001b[0m",
      "\u001b[0;31mTypeError\u001b[0m: 'tuple' object does not support item assignment"
     ]
    }
   ],
   "source": [
    "f[4] = 34 # Returns an error - Tuple does not support an assignment"
   ]
  },
  {
   "cell_type": "code",
   "execution_count": 37,
   "id": "0c0504bd",
   "metadata": {},
   "outputs": [
    {
     "ename": "TypeError",
     "evalue": "'tuple' object doesn't support item deletion",
     "output_type": "error",
     "traceback": [
      "\u001b[0;31m---------------------------------------------------------------------------\u001b[0m",
      "\u001b[0;31mTypeError\u001b[0m                                 Traceback (most recent call last)",
      "\u001b[0;32m/tmp/ipykernel_4670/247870896.py\u001b[0m in \u001b[0;36m<module>\u001b[0;34m\u001b[0m\n\u001b[0;32m----> 1\u001b[0;31m \u001b[0;32mdel\u001b[0m \u001b[0mf\u001b[0m\u001b[0;34m[\u001b[0m\u001b[0;36m4\u001b[0m\u001b[0;34m]\u001b[0m \u001b[0;31m# Returns an error - doesn't support deletion of an element\u001b[0m\u001b[0;34m\u001b[0m\u001b[0;34m\u001b[0m\u001b[0m\n\u001b[0m",
      "\u001b[0;31mTypeError\u001b[0m: 'tuple' object doesn't support item deletion"
     ]
    }
   ],
   "source": [
    "del f[4] # Returns an error - doesn't support deletion of an element"
   ]
  },
  {
   "cell_type": "code",
   "execution_count": 38,
   "id": "463d976b",
   "metadata": {},
   "outputs": [],
   "source": [
    "# We can delete the whole tuple itself\n",
    "del f"
   ]
  },
  {
   "cell_type": "code",
   "execution_count": 39,
   "id": "e0933029",
   "metadata": {},
   "outputs": [],
   "source": [
    "del a\n",
    "del b"
   ]
  },
  {
   "cell_type": "markdown",
   "id": "6e81cd81",
   "metadata": {},
   "source": [
    "# Tuples Functions"
   ]
  },
  {
   "cell_type": "code",
   "execution_count": 40,
   "id": "ca830ef5",
   "metadata": {},
   "outputs": [],
   "source": [
    "a = (1, 2, 3)\n",
    "b = 4, 5"
   ]
  },
  {
   "cell_type": "code",
   "execution_count": 42,
   "id": "163eba41",
   "metadata": {},
   "outputs": [
    {
     "name": "stdout",
     "output_type": "stream",
     "text": [
      "1\n",
      "2\n",
      "3\n"
     ]
    }
   ],
   "source": [
    "# for loops\n",
    "for i in a:\n",
    "    print(i)"
   ]
  },
  {
   "cell_type": "code",
   "execution_count": 44,
   "id": "b1710e87",
   "metadata": {},
   "outputs": [
    {
     "data": {
      "text/plain": [
       "True"
      ]
     },
     "execution_count": 44,
     "metadata": {},
     "output_type": "execute_result"
    }
   ],
   "source": [
    "1 in a # Checks if 1 is an element of 'a' or not, yes so it returns true"
   ]
  },
  {
   "cell_type": "code",
   "execution_count": 46,
   "id": "a2f0a78c",
   "metadata": {},
   "outputs": [
    {
     "data": {
      "text/plain": [
       "False"
      ]
     },
     "execution_count": 46,
     "metadata": {},
     "output_type": "execute_result"
    }
   ],
   "source": [
    "1 in b # 1 is not an element of b, so it returns false"
   ]
  },
  {
   "cell_type": "code",
   "execution_count": 47,
   "id": "c304600e",
   "metadata": {},
   "outputs": [
    {
     "data": {
      "text/plain": [
       "3"
      ]
     },
     "execution_count": 47,
     "metadata": {},
     "output_type": "execute_result"
    }
   ],
   "source": [
    "len(a)"
   ]
  },
  {
   "cell_type": "code",
   "execution_count": 53,
   "id": "55c4ed01",
   "metadata": {},
   "outputs": [],
   "source": [
    "c = a + b # Concatenation of two tuples 'a' and 'b' into a new tuple 'c'"
   ]
  },
  {
   "cell_type": "code",
   "execution_count": 54,
   "id": "3b5d2635",
   "metadata": {},
   "outputs": [
    {
     "data": {
      "text/plain": [
       "(1, 2, 3, 4, 5)"
      ]
     },
     "execution_count": 54,
     "metadata": {},
     "output_type": "execute_result"
    }
   ],
   "source": [
    "c"
   ]
  },
  {
   "cell_type": "code",
   "execution_count": 56,
   "id": "efdeccab",
   "metadata": {},
   "outputs": [
    {
     "data": {
      "text/plain": [
       "((1, 2, 3), (4, 5))"
      ]
     },
     "execution_count": 56,
     "metadata": {},
     "output_type": "execute_result"
    }
   ],
   "source": [
    "d = (a, b) # Creates two entries where a is the first entry tuple and b is the second entry tuple\n",
    "d"
   ]
  },
  {
   "cell_type": "code",
   "execution_count": 59,
   "id": "6c96db7a",
   "metadata": {},
   "outputs": [
    {
     "data": {
      "text/plain": [
       "(1, 2, 3, 1, 2, 3, 1, 2, 3, 1, 2, 3)"
      ]
     },
     "execution_count": 59,
     "metadata": {},
     "output_type": "execute_result"
    }
   ],
   "source": [
    "# repetition\n",
    "e = a * 4 # Repeat tuple 'e' four times\n",
    "e"
   ]
  },
  {
   "cell_type": "code",
   "execution_count": 60,
   "id": "c847f07b",
   "metadata": {},
   "outputs": [
    {
     "data": {
      "text/plain": [
       "1"
      ]
     },
     "execution_count": 60,
     "metadata": {},
     "output_type": "execute_result"
    }
   ],
   "source": [
    "min(a) # Returns the minimum element of tuple 'a'"
   ]
  },
  {
   "cell_type": "code",
   "execution_count": 61,
   "id": "410e1eff",
   "metadata": {},
   "outputs": [
    {
     "data": {
      "text/plain": [
       "3"
      ]
     },
     "execution_count": 61,
     "metadata": {},
     "output_type": "execute_result"
    }
   ],
   "source": [
    "max(a)"
   ]
  },
  {
   "cell_type": "code",
   "execution_count": 64,
   "id": "3cbf5d3b",
   "metadata": {},
   "outputs": [
    {
     "ename": "TypeError",
     "evalue": "'<' not supported between instances of 'str' and 'int'",
     "output_type": "error",
     "traceback": [
      "\u001b[0;31m---------------------------------------------------------------------------\u001b[0m",
      "\u001b[0;31mTypeError\u001b[0m                                 Traceback (most recent call last)",
      "\u001b[0;32m/tmp/ipykernel_4670/4092543567.py\u001b[0m in \u001b[0;36m<module>\u001b[0;34m\u001b[0m\n\u001b[1;32m      1\u001b[0m \u001b[0ma2\u001b[0m \u001b[0;34m=\u001b[0m \u001b[0;34m(\u001b[0m\u001b[0;36m1\u001b[0m\u001b[0;34m,\u001b[0m \u001b[0;36m2\u001b[0m\u001b[0;34m,\u001b[0m \u001b[0;34m\"s\"\u001b[0m\u001b[0;34m,\u001b[0m \u001b[0;34m(\u001b[0m\u001b[0;36m1\u001b[0m\u001b[0;34m,\u001b[0m \u001b[0;36m2\u001b[0m\u001b[0;34m)\u001b[0m\u001b[0;34m)\u001b[0m\u001b[0;34m\u001b[0m\u001b[0;34m\u001b[0m\u001b[0m\n\u001b[0;32m----> 2\u001b[0;31m \u001b[0mmin\u001b[0m\u001b[0;34m(\u001b[0m\u001b[0ma2\u001b[0m\u001b[0;34m)\u001b[0m \u001b[0;31m# Returns an error because you cannot compare a string and an integer|\u001b[0m\u001b[0;34m\u001b[0m\u001b[0;34m\u001b[0m\u001b[0m\n\u001b[0m",
      "\u001b[0;31mTypeError\u001b[0m: '<' not supported between instances of 'str' and 'int'"
     ]
    }
   ],
   "source": [
    "a2 = (1, 2, \"s\", (1, 2))\n",
    "min(a2) # Returns an error because you cannot compare a string and an integer|"
   ]
  },
  {
   "cell_type": "code",
   "execution_count": 65,
   "id": "9ae4bf69",
   "metadata": {},
   "outputs": [],
   "source": [
    "del a2"
   ]
  },
  {
   "cell_type": "code",
   "execution_count": 67,
   "id": "ea7db486",
   "metadata": {},
   "outputs": [
    {
     "ename": "TypeError",
     "evalue": "'<' not supported between instances of 'tuple' and 'int'",
     "output_type": "error",
     "traceback": [
      "\u001b[0;31m---------------------------------------------------------------------------\u001b[0m",
      "\u001b[0;31mTypeError\u001b[0m                                 Traceback (most recent call last)",
      "\u001b[0;32m/tmp/ipykernel_4670/2287191245.py\u001b[0m in \u001b[0;36m<module>\u001b[0;34m\u001b[0m\n\u001b[1;32m      1\u001b[0m \u001b[0ma2\u001b[0m \u001b[0;34m=\u001b[0m \u001b[0;34m(\u001b[0m\u001b[0;36m1\u001b[0m\u001b[0;34m,\u001b[0m \u001b[0;36m2\u001b[0m\u001b[0;34m,\u001b[0m \u001b[0;34m(\u001b[0m\u001b[0;36m1\u001b[0m\u001b[0;34m,\u001b[0m \u001b[0;36m2\u001b[0m\u001b[0;34m)\u001b[0m\u001b[0;34m)\u001b[0m\u001b[0;34m\u001b[0m\u001b[0;34m\u001b[0m\u001b[0m\n\u001b[0;32m----> 2\u001b[0;31m \u001b[0mmin\u001b[0m\u001b[0;34m(\u001b[0m\u001b[0ma2\u001b[0m\u001b[0;34m)\u001b[0m \u001b[0;31m# Returns an error because you cannot even compare a tuple and an integer\u001b[0m\u001b[0;34m\u001b[0m\u001b[0;34m\u001b[0m\u001b[0m\n\u001b[0m",
      "\u001b[0;31mTypeError\u001b[0m: '<' not supported between instances of 'tuple' and 'int'"
     ]
    }
   ],
   "source": [
    "a2 = (1, 2, (1, 2))\n",
    "min(a2) # Returns an error because you cannot compare a tuple and an integer"
   ]
  },
  {
   "cell_type": "code",
   "execution_count": 69,
   "id": "c5f4c4b9",
   "metadata": {},
   "outputs": [
    {
     "data": {
      "text/plain": [
       "1"
      ]
     },
     "execution_count": 69,
     "metadata": {},
     "output_type": "execute_result"
    }
   ],
   "source": [
    "a3 = (1, 2.2)\n",
    "min(a3) # We can compare a float and an integer"
   ]
  },
  {
   "cell_type": "code",
   "execution_count": 70,
   "id": "20d2177b",
   "metadata": {},
   "outputs": [
    {
     "data": {
      "text/plain": [
       "(1, 2, 3, 4)"
      ]
     },
     "execution_count": 70,
     "metadata": {},
     "output_type": "execute_result"
    }
   ],
   "source": [
    "# Converting a list to a tuple\n",
    "l = [1, 2, 3, 4]\n",
    "tuple(l)"
   ]
  },
  {
   "cell_type": "code",
   "execution_count": 71,
   "id": "db4fe73f",
   "metadata": {},
   "outputs": [
    {
     "name": "stdout",
     "output_type": "stream",
     "text": [
      "(1, 2)\n"
     ]
    }
   ],
   "source": [
    "# What will be the output of following code?\n",
    "\n",
    "a = 1,2\n",
    "b = (4,5)\n",
    "d = (a,b)\n",
    "print(d[0])"
   ]
  },
  {
   "cell_type": "code",
   "execution_count": 73,
   "id": "1f1bf196",
   "metadata": {},
   "outputs": [
    {
     "name": "stdout",
     "output_type": "stream",
     "text": [
      "4\n"
     ]
    }
   ],
   "source": [
    "# What will be the output of following code?\n",
    "\n",
    "a = 1,2\n",
    "b = (4,5)\n",
    "d = a+b\n",
    "print(d[2])\n",
    "\n",
    "# d - (1, 2, 4, 5)"
   ]
  },
  {
   "cell_type": "code",
   "execution_count": 75,
   "id": "44cac30d",
   "metadata": {},
   "outputs": [],
   "source": [
    "del a"
   ]
  },
  {
   "cell_type": "code",
   "execution_count": 77,
   "id": "373cacb0",
   "metadata": {},
   "outputs": [
    {
     "name": "stdout",
     "output_type": "stream",
     "text": [
      "ab\n"
     ]
    }
   ],
   "source": [
    "# What will be the output of following code?\n",
    "\n",
    "a = (\"ab\",\"abc\",\"def\")\n",
    "print(min(a))"
   ]
  },
  {
   "cell_type": "markdown",
   "id": "5059e3eb",
   "metadata": {},
   "source": [
    "# Variable Length Input and Output"
   ]
  },
  {
   "cell_type": "code",
   "execution_count": 1,
   "id": "7e489c61",
   "metadata": {},
   "outputs": [],
   "source": [
    "# Objective - Function should be able to take the variable length input, i.e; the length of the input need not be fixed\n",
    "# In the following code, *more is passed as a tuple to the sum-function\n",
    "def sum(a, b, *more):\n",
    "    print(a)\n",
    "    print(b)\n",
    "    print(type(more))\n",
    "    ans = a + b\n",
    "    for i in more:\n",
    "        ans = ans + i\n",
    "    return ans"
   ]
  },
  {
   "cell_type": "code",
   "execution_count": 2,
   "id": "31362656",
   "metadata": {},
   "outputs": [
    {
     "name": "stdout",
     "output_type": "stream",
     "text": [
      "2\n",
      "3\n",
      "<class 'tuple'>\n"
     ]
    },
    {
     "data": {
      "text/plain": [
       "5"
      ]
     },
     "execution_count": 2,
     "metadata": {},
     "output_type": "execute_result"
    }
   ],
   "source": [
    "sum(2, 3)"
   ]
  },
  {
   "cell_type": "code",
   "execution_count": 3,
   "id": "6eabce09",
   "metadata": {},
   "outputs": [
    {
     "name": "stdout",
     "output_type": "stream",
     "text": [
      "2\n",
      "3\n",
      "<class 'tuple'>\n"
     ]
    },
    {
     "data": {
      "text/plain": [
       "14"
      ]
     },
     "execution_count": 3,
     "metadata": {},
     "output_type": "execute_result"
    }
   ],
   "source": [
    "sum(2, 3, 4, 5)"
   ]
  },
  {
   "cell_type": "code",
   "execution_count": 4,
   "id": "10b74b44",
   "metadata": {},
   "outputs": [],
   "source": [
    "def sum_diff(a, b):\n",
    "    return a + b, a - b"
   ]
  },
  {
   "cell_type": "code",
   "execution_count": 5,
   "id": "10cb0d1c",
   "metadata": {},
   "outputs": [
    {
     "data": {
      "text/plain": [
       "(5, 3)"
      ]
     },
     "execution_count": 5,
     "metadata": {},
     "output_type": "execute_result"
    }
   ],
   "source": [
    "# c is a tuple cause we are returning more than one value and python create a tuple for that\n",
    "c = sum_diff(4, 1)\n",
    "c"
   ]
  },
  {
   "cell_type": "code",
   "execution_count": 6,
   "id": "7d2fa693",
   "metadata": {},
   "outputs": [
    {
     "name": "stdout",
     "output_type": "stream",
     "text": [
      "5\n",
      "3\n"
     ]
    }
   ],
   "source": [
    "d, e = sum_diff(4, 1)\n",
    "print(d) # stores the sum in d\n",
    "print(e) # stores the diff in e"
   ]
  },
  {
   "cell_type": "code",
   "execution_count": 7,
   "id": "f54b0c5a",
   "metadata": {},
   "outputs": [],
   "source": [
    "del d"
   ]
  },
  {
   "cell_type": "code",
   "execution_count": 8,
   "id": "afe4cdd8",
   "metadata": {},
   "outputs": [
    {
     "name": "stdout",
     "output_type": "stream",
     "text": [
      "(5, 3)\n"
     ]
    }
   ],
   "source": [
    "d = sum_diff(4, 1)\n",
    "print(d) "
   ]
  },
  {
   "cell_type": "code",
   "execution_count": 13,
   "id": "abf05862",
   "metadata": {},
   "outputs": [
    {
     "name": "stdout",
     "output_type": "stream",
     "text": [
      "(35, 40320)\n"
     ]
    }
   ],
   "source": [
    "# What will be the output of following code?\n",
    "\n",
    "def sum_multiply(a, b, *more):\n",
    "    sum_value = a + b\n",
    "    m_value = a * b\n",
    "    for i in more:\n",
    "        sum_value += i\n",
    "        m_value *= i\n",
    "    return sum_value, m_value\n",
    "s_m = sum_multiply(2, 3, 4, 5, 6, 7, 8)\n",
    "print(s_m)\n",
    "\n",
    "Solution Description:\n",
    "Following the conventional ways, we can return only a single value from any function. However, with the help of tuples, we can overcome this disadvantage. \n",
    "Tuples help us in returning multiple values from a single function. This can be done by returning comma-separated-values, from any function. On being returned, \n",
    "these comma-separated values act as a tuple. We can access the various entries from this returned tuple."
   ]
  },
  {
   "cell_type": "code",
   "execution_count": null,
   "id": "be2dcfc6",
   "metadata": {},
   "outputs": [],
   "source": []
  }
 ],
 "metadata": {
  "kernelspec": {
   "display_name": "Python 3 (ipykernel)",
   "language": "python",
   "name": "python3"
  },
  "language_info": {
   "codemirror_mode": {
    "name": "ipython",
    "version": 3
   },
   "file_extension": ".py",
   "mimetype": "text/x-python",
   "name": "python",
   "nbconvert_exporter": "python",
   "pygments_lexer": "ipython3",
   "version": "3.9.13"
  }
 },
 "nbformat": 4,
 "nbformat_minor": 5
}
