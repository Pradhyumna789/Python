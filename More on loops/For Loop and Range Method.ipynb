{
 "cells": [
  {
   "cell_type": "code",
   "execution_count": 1,
   "id": "033faf06",
   "metadata": {},
   "outputs": [
    {
     "name": "stdout",
     "output_type": "stream",
     "text": [
      "a\n",
      "b\n",
      "c\n",
      "d\n"
     ]
    }
   ],
   "source": [
    "s = 'abcd'\n",
    "for c in s:\n",
    "    print(c)"
   ]
  },
  {
   "cell_type": "code",
   "execution_count": 3,
   "id": "00d14d39",
   "metadata": {},
   "outputs": [
    {
     "name": "stdout",
     "output_type": "stream",
     "text": [
      "4\n",
      "1\n",
      "2\n",
      "3\n",
      "4\n"
     ]
    }
   ],
   "source": [
    "# Printing the first 'n' natural numbers using for-loop\n",
    "# We will use a method called range, this method takes in three arguments.\n",
    "# range(start, end, stride)\n",
    "# start - implies where we should start from\n",
    "# stop - implies where we should stop at\n",
    "# stride - implies how do you want to reach from 0 to n, meaning by how much do you want to increment\n",
    "n = int(input())\n",
    "# Start from 1, go till n + 1 because by default the loop stops at (stop - 1), and increment by 1\n",
    "for i in range(1, n + 1, 1): \n",
    "    print(i) "
   ]
  },
  {
   "cell_type": "code",
   "execution_count": 4,
   "id": "376558e0",
   "metadata": {},
   "outputs": [
    {
     "name": "stdout",
     "output_type": "stream",
     "text": [
      "4\n",
      "0\n",
      "1\n",
      "2\n",
      "3\n",
      "4\n"
     ]
    }
   ],
   "source": [
    "# We could just pass one argument\n",
    "n = int(input())\n",
    "for i in range(n + 1): # by default start is 0 and stride or step is 1\n",
    "    print(i)"
   ]
  },
  {
   "cell_type": "code",
   "execution_count": 6,
   "id": "3c8dcc18",
   "metadata": {},
   "outputs": [
    {
     "name": "stdout",
     "output_type": "stream",
     "text": [
      "4\n",
      "1\n",
      "2\n",
      "3\n",
      "4\n"
     ]
    }
   ],
   "source": [
    "# OR\n",
    "n = int(input())\n",
    "for i in range(1, n + 1):\n",
    "    print(i)"
   ]
  },
  {
   "cell_type": "code",
   "execution_count": 7,
   "id": "01424b4c",
   "metadata": {},
   "outputs": [
    {
     "name": "stdout",
     "output_type": "stream",
     "text": [
      "4\n",
      "4\n",
      "3\n",
      "2\n",
      "1\n"
     ]
    }
   ],
   "source": [
    "# numbers from n to 1\n",
    "n = int(input())\n",
    "for i in range(n, 0, -1):\n",
    "    print(i)"
   ]
  },
  {
   "cell_type": "code",
   "execution_count": 10,
   "id": "7b70589a",
   "metadata": {},
   "outputs": [
    {
     "name": "stdout",
     "output_type": "stream",
     "text": [
      "1\n",
      "10\n",
      "3\n",
      "6\n",
      "9\n"
     ]
    }
   ],
   "source": [
    "# Print multiples of 3 between 1 to n\n",
    "a = int(input()) # starting number\n",
    "b = int(input()) # ending number\n",
    "\n",
    "for i in range(a, b + 1, 1):\n",
    "    if i % 3 == 0:\n",
    "        print(i)"
   ]
  },
  {
   "cell_type": "code",
   "execution_count": 13,
   "id": "300128c9",
   "metadata": {},
   "outputs": [
    {
     "name": "stdout",
     "output_type": "stream",
     "text": [
      "4\n",
      "50\n",
      "6\n",
      "9\n",
      "12\n",
      "15\n",
      "18\n",
      "21\n",
      "24\n",
      "27\n",
      "30\n",
      "33\n",
      "36\n",
      "39\n",
      "42\n",
      "45\n",
      "48\n"
     ]
    }
   ],
   "source": [
    "# Alternative solution by incrementing by 3\n",
    "a = int(input())\n",
    "b = int(input())\n",
    "\n",
    "if a % 3 == 0:\n",
    "    s = a\n",
    "elif a % 3 == 1:\n",
    "    s = a + 2\n",
    "else:\n",
    "    s = a + 1\n",
    "    \n",
    "for i in range(s, b + 1, 3):\n",
    "    print(i)"
   ]
  },
  {
   "cell_type": "code",
   "execution_count": null,
   "id": "22e530ff",
   "metadata": {},
   "outputs": [],
   "source": [
    "Terms of AP\n",
    "\n",
    "Write a program to print first x terms of the series 3N + 2 which are not multiples of 4.\n",
    "Input format :\n",
    "Integer x\n",
    "Output format :\n",
    "Terms of series (separated by space)\n",
    "Constraints :\n",
    "1 <= x <= 1,000\n",
    "Sample Input 1 :\n",
    "10\n",
    "Sample Output 1 :\n",
    "5 11 14 17 23 26 29 35 38 41\n",
    "Sample Input 2 :\n",
    "4\n",
    "Sample Output 2 :\n",
    "5 11 14 17"
   ]
  },
  {
   "cell_type": "code",
   "execution_count": 19,
   "id": "1ed36a4e",
   "metadata": {},
   "outputs": [
    {
     "name": "stdout",
     "output_type": "stream",
     "text": [
      "4\n",
      "5 11 14 17 "
     ]
    }
   ],
   "source": [
    "x = int(input())\n",
    "\n",
    "n = 1\n",
    "count = 1\n",
    "\n",
    "while(count <= x):\n",
    "    term = 3 * n + 2\n",
    "\n",
    "    if term % 4 != 0:\n",
    "        print(term, end = ' ')\n",
    "        count += 1\n",
    "\n",
    "    n += 1"
   ]
  },
  {
   "cell_type": "code",
   "execution_count": 28,
   "id": "2234b357",
   "metadata": {},
   "outputs": [
    {
     "name": "stdout",
     "output_type": "stream",
     "text": [
      "4\n",
      "2\n",
      "24\n"
     ]
    }
   ],
   "source": [
    "n = int(input())\n",
    "c = int(input())\n",
    "\n",
    "count = 1\n",
    "sum = 0\n",
    "product = 1\n",
    "\n",
    "if c == 1:\n",
    "    for i in range(1, n + 1, 1):\n",
    "        sum += count \n",
    "        count += 1\n",
    "    print(sum)\n",
    "\n",
    "elif c == 2:\n",
    "    for i in range(1, n + 1, 1):\n",
    "        product *= count\n",
    "        count += 1\n",
    "    print(product)  \n",
    "\n",
    "else:\n",
    "    print(-1)\n"
   ]
  },
  {
   "cell_type": "markdown",
   "id": "c4f735a5",
   "metadata": {},
   "source": [
    "# Break Keyword\n",
    "\n",
    "Allows you to get out of the loop if your condition matches and you don't want to run the loop anymore"
   ]
  },
  {
   "cell_type": "code",
   "execution_count": 30,
   "id": "386bcd91",
   "metadata": {},
   "outputs": [
    {
     "name": "stdout",
     "output_type": "stream",
     "text": [
      "1\n",
      "2\n",
      "3\n",
      "4\n"
     ]
    }
   ],
   "source": [
    "# The loops breaks if the condition(which is when i equals 5), it breaks...\n",
    "i = 1\n",
    "while i < 10:\n",
    "    if i == 5:\n",
    "        break\n",
    "    print(i)\n",
    "    i += 1"
   ]
  },
  {
   "cell_type": "code",
   "execution_count": 31,
   "id": "a9daa2bc",
   "metadata": {},
   "outputs": [
    {
     "name": "stdout",
     "output_type": "stream",
     "text": [
      "5\n",
      "prime\n"
     ]
    }
   ],
   "source": [
    "# Another example code - For checking If a number is prime or not\n",
    "n = int(input())\n",
    "d = 2\n",
    "flag = False\n",
    "while d < n:\n",
    "    if(n % d == 0):\n",
    "        flag = True\n",
    "        break\n",
    "    d = d + 1\n",
    "    \n",
    "if flag:\n",
    "    print('not prime')\n",
    "else:\n",
    "    print('prime')"
   ]
  },
  {
   "cell_type": "code",
   "execution_count": 32,
   "id": "38136030",
   "metadata": {},
   "outputs": [
    {
     "name": "stdout",
     "output_type": "stream",
     "text": [
      "1 2 1 2 "
     ]
    }
   ],
   "source": [
    "i=1\n",
    "while i<3:\n",
    "    j=1\n",
    "    while j<5:\n",
    "        if j==3:\n",
    "            break # Only the inner while loop breaks here, not the outer while loop\n",
    "        print(j,end=\" \")\n",
    "        j = j + 1\n",
    "    i = i + 1"
   ]
  },
  {
   "cell_type": "markdown",
   "id": "e15abfc3",
   "metadata": {},
   "source": [
    "# Else keyword with loops\n",
    "\n",
    "Code inside else will not be executed if while/for is terminated because of the break statement"
   ]
  },
  {
   "cell_type": "code",
   "execution_count": 1,
   "id": "63d6e61d",
   "metadata": {},
   "outputs": [
    {
     "name": "stdout",
     "output_type": "stream",
     "text": [
      "1\n",
      "2\n",
      "3\n",
      "4\n",
      "5\n",
      "6\n",
      "7\n",
      "8\n",
      "9\n",
      "this will be printed once at the end\n"
     ]
    }
   ],
   "source": [
    "i = 1\n",
    "while i < 10:\n",
    "    print(i)\n",
    "    i += 1\n",
    "else:\n",
    "    print('this will be printed once at the end')"
   ]
  },
  {
   "cell_type": "code",
   "execution_count": 2,
   "id": "941c677f",
   "metadata": {},
   "outputs": [
    {
     "name": "stdout",
     "output_type": "stream",
     "text": [
      "1\n",
      "2\n",
      "3\n",
      "4\n",
      "5\n",
      "6\n",
      "7\n",
      "8\n",
      "9\n",
      "this will also be printed once at the end\n"
     ]
    }
   ],
   "source": [
    "for i in range(1, 10):\n",
    "    print(i)\n",
    "else:\n",
    "    print('this will also be printed once at the end')"
   ]
  },
  {
   "cell_type": "code",
   "execution_count": 3,
   "id": "d8a57711",
   "metadata": {},
   "outputs": [
    {
     "name": "stdout",
     "output_type": "stream",
     "text": [
      "1\n",
      "2\n",
      "3\n",
      "4\n"
     ]
    }
   ],
   "source": [
    "### As we have discussed above the else statement in the following code won't be executed\n",
    "for i in range(1, 10):\n",
    "    if i == 5:\n",
    "        break\n",
    "    print(i)\n",
    "else:\n",
    "    print('this will also be printed once at the end')"
   ]
  },
  {
   "cell_type": "code",
   "execution_count": 4,
   "id": "a77c0579",
   "metadata": {},
   "outputs": [
    {
     "name": "stdout",
     "output_type": "stream",
     "text": [
      "5\n",
      "prime number\n"
     ]
    }
   ],
   "source": [
    "### Using this above technique we could improve our prime number checking code by removing the flag variable\n",
    "n = int(input())\n",
    "for d in range(2, n, 1):\n",
    "    if(n % d == 0):\n",
    "        break\n",
    "### We will go inside else only if we run through the whole for-loop without hitting the break statement\n",
    "else:\n",
    "    print('prime number')\n",
    "### And If we give 10 as an input, the code won't execute"
   ]
  },
  {
   "cell_type": "markdown",
   "id": "4c9b6506",
   "metadata": {},
   "source": [
    "# Continue keyword\n",
    "\n",
    "Used when you want to skip an iteration"
   ]
  },
  {
   "cell_type": "code",
   "execution_count": 8,
   "id": "0ab9410f",
   "metadata": {},
   "outputs": [
    {
     "name": "stdout",
     "output_type": "stream",
     "text": [
      "100\n",
      "2\n",
      "4\n",
      "6\n",
      "8\n",
      "10\n",
      "12\n",
      "14\n",
      "16\n",
      "18\n",
      "20\n",
      "22\n",
      "24\n",
      "26\n",
      "28\n",
      "30\n",
      "32\n",
      "34\n",
      "36\n",
      "38\n",
      "40\n",
      "42\n",
      "44\n",
      "46\n",
      "48\n",
      "50\n",
      "52\n",
      "54\n",
      "56\n",
      "58\n",
      "60\n",
      "62\n",
      "64\n",
      "66\n",
      "68\n",
      "70\n",
      "72\n",
      "74\n",
      "76\n",
      "78\n",
      "80\n",
      "82\n",
      "84\n",
      "86\n",
      "88\n",
      "90\n",
      "92\n",
      "94\n",
      "96\n",
      "98\n",
      "100\n"
     ]
    }
   ],
   "source": [
    "### In the following code we are avoiding multiples of (7) using the continue keyword\n",
    "### We are basically skipping an iteration when a number is divisible by 7\n",
    "n = int(input())\n",
    "for i in range(2, n + 1, 2):\n",
    "    if i % 7 == 0:\n",
    "        continue\n",
    "    print(i)"
   ]
  },
  {
   "cell_type": "code",
   "execution_count": 11,
   "id": "d83fcae6",
   "metadata": {},
   "outputs": [
    {
     "name": "stdout",
     "output_type": "stream",
     "text": [
      "100\n",
      "2\n",
      "4\n",
      "6\n",
      "8\n",
      "10\n",
      "12\n",
      "16\n",
      "18\n",
      "20\n",
      "22\n",
      "24\n",
      "26\n",
      "30\n",
      "32\n",
      "34\n",
      "36\n",
      "38\n",
      "40\n",
      "44\n",
      "46\n",
      "48\n",
      "50\n",
      "52\n",
      "54\n",
      "58\n",
      "60\n",
      "62\n",
      "64\n",
      "66\n",
      "68\n",
      "72\n",
      "74\n",
      "76\n",
      "78\n",
      "80\n",
      "82\n",
      "86\n",
      "88\n",
      "90\n",
      "92\n",
      "94\n",
      "96\n",
      "100\n"
     ]
    }
   ],
   "source": [
    "### The exact same code using a while loop\n",
    "n = int(input())\n",
    "i = 2\n",
    "while i <= n:\n",
    "    if i % 7 == 0:\n",
    "        i += 2\n",
    "        continue\n",
    "    print(i)\n",
    "    i += 2"
   ]
  },
  {
   "cell_type": "code",
   "execution_count": 14,
   "id": "0de7532c",
   "metadata": {},
   "outputs": [
    {
     "name": "stdout",
     "output_type": "stream",
     "text": [
      "1 2 4 5 1 2 4 5 "
     ]
    }
   ],
   "source": [
    "### Try to debug the following code to better understand the working of continue statement\n",
    "i=1\n",
    "while i<3:\n",
    "    j=0\n",
    "    while j<5:\n",
    "        j = j +1\n",
    "        if j==3:\n",
    "            continue\n",
    "        print(j, end = ' ')\n",
    "    i = i + 1"
   ]
  },
  {
   "cell_type": "markdown",
   "id": "3978aadc",
   "metadata": {},
   "source": [
    "# Pass Statements\n",
    "\n",
    "Use case - pass can be used as a temporary statement to basically tell yourself that you're going to do something inside a code block(like a todo task or a list) but eventually you'll come back and write something."
   ]
  },
  {
   "cell_type": "code",
   "execution_count": 15,
   "id": "a3d9cfd1",
   "metadata": {},
   "outputs": [
    {
     "name": "stdout",
     "output_type": "stream",
     "text": [
      "hey\n"
     ]
    }
   ],
   "source": [
    "### here the pass statment makes the if statment non executable\n",
    "i = 3\n",
    "if i < 7:\n",
    "    pass\n",
    "print('hey')"
   ]
  },
  {
   "cell_type": "code",
   "execution_count": 17,
   "id": "d5492813",
   "metadata": {},
   "outputs": [
    {
     "name": "stdout",
     "output_type": "stream",
     "text": [
      "end\n"
     ]
    }
   ],
   "source": [
    "### Using pass statment with while loop\n",
    "while i <= 3:\n",
    "    i = i + 1\n",
    "    pass\n",
    " ### here it is mandatory to increment i even if you're writing pass inside the while loop, because if you don't increment i this will keep passing\n",
    "print('end')"
   ]
  },
  {
   "cell_type": "code",
   "execution_count": 18,
   "id": "dbb55c86",
   "metadata": {},
   "outputs": [
    {
     "name": "stdout",
     "output_type": "stream",
     "text": [
      "end\n"
     ]
    }
   ],
   "source": [
    "for i in range(1, 4):\n",
    "    pass\n",
    "print('end')"
   ]
  },
  {
   "cell_type": "code",
   "execution_count": null,
   "id": "f727ce00",
   "metadata": {},
   "outputs": [],
   "source": [
    "Decimal to Binary\n",
    "\n",
    "Given a decimal number (integer N), convert it into binary and print.\n",
    "The binary number should be in the form of an integer.\n",
    "\n",
    "Note: The given input number could be large, so the corresponding binary number can exceed the integer range. So you may want to take the answer as long for CPP and Java.\n",
    "\n",
    "Input format :\n",
    "Integer N\n",
    "Output format :\n",
    "Corresponding Binary number (long)\n",
    "Constraints :\n",
    "0 <= N <= 10^5\n",
    "Sample Input 1 :\n",
    "12\n",
    "Sample Output 1 :\n",
    "1100\n",
    "Sample Input 2 :\n",
    "7\n",
    "Sample Output 2 :\n",
    "111\n",
    "\n",
    "Solution:\n",
    "Let's try to convert 12 to a binary number\n",
    "We run the while loop until the number > 0\n",
    "Initially, binary_number = 0 and place_value = 1\n",
    "remainder = 12 % 2 = 0 \n",
    "0 * 1(place_value) = 0\n",
    "12 / 2 = 6\n",
    "place_value = 1 * 10 = 10\n",
    "binary_number = 0 + remainder = 0 + 0 = 0\n",
    "6 % 2 = 0 \n",
    "0 * 10 = 0\n",
    "6 / 2 = 3\n",
    "place_value = 10 * 10 = 100\n",
    "binary_number = 0 + 0 = 0\n",
    "3 % 2 = 1\n",
    "1 * 100 = 100\n",
    "3 / 2 = 1\n",
    "place_value = 100 * 10 = 1000\n",
    "binary_number = 0 + 100 = 100\n",
    "1 % 2 = 1\n",
    "1 * 1000 = 1000\n",
    "1 / 2 = 0\n",
    "place_value = 10000\n",
    "binary_number = 1000 + 100 = 1100"
   ]
  },
  {
   "cell_type": "code",
   "execution_count": 19,
   "id": "ad3475b5",
   "metadata": {},
   "outputs": [
    {
     "name": "stdout",
     "output_type": "stream",
     "text": [
      "12\n",
      "1100\n"
     ]
    }
   ],
   "source": [
    "num = int(input())  # Take user input as an integer\n",
    "\n",
    "binary_num = 0  # Initialize binary_num to 0\n",
    "place_value = 1  # Initialize place_value to 1\n",
    "\n",
    "while num > 0:\n",
    "   lastDigit = num % 2  # Get the remainder when the number is divided by 2\n",
    "   binary_num = binary_num + (lastDigit * place_value)  # Update binary_num with the new digit\n",
    "   num = num // 2  # Divide the number by 2\n",
    "   place_value *= 10  # Multiply place_value by 10 for the next digit\n",
    "\n",
    "print(binary_num)  # Print the binary equivalent of the input number"
   ]
  },
  {
   "cell_type": "code",
   "execution_count": null,
   "id": "0e4edc3f",
   "metadata": {},
   "outputs": [],
   "source": [
    "Trailing zeroes in n!\n",
    "\n",
    "Find and return number of trailing 0s in n factorial without calculating n factorial.\n",
    "Sample Input\n",
    "50\n",
    "Sample Output\n",
    "12\n",
    "Input Size Limit\n",
    "n < 10^11\n",
    "\n",
    "Solution:\n",
    "To find the number of trailing zeros in n factorial without calculating n factorial, we need to count the number of times the prime factor 5 appears in the prime factorization of n!. This is because a trailing zero is created by a factor of 10, which can only be formed by multiplying 2 and 5.\n",
    "\n",
    "We can use the following algorithm to count the number of times the prime factor 5 appears in the prime factorization of n!:\n",
    "\n",
    "Initialize count to 0.\n",
    "Start a loop that runs while n is greater than or equal to 5.\n",
    "Divide n by 5 and add the quotient to the count.\n",
    "Repeat steps 2 and 3 until n is less than 5.\n",
    "Return the count.\n",
    "\n",
    "n  = n // 5\n",
    "50 = 50 // 5 = 10\n",
    "10 // 5 = 2 -> 2 is less than 5, so the iteration stops here\n",
    "10 + 2 = 12 trialing zeroes in the factorial fo 50\n"
   ]
  },
  {
   "cell_type": "code",
   "execution_count": 21,
   "id": "2b265d98",
   "metadata": {},
   "outputs": [
    {
     "name": "stdout",
     "output_type": "stream",
     "text": [
      "50\n",
      "12\n"
     ]
    }
   ],
   "source": [
    "n = int(input())\n",
    "\n",
    "count = 0\n",
    "while(n >= 5):\n",
    "    n  = n // 5\n",
    "    count  = count + n\n",
    "print(count)"
   ]
  },
  {
   "cell_type": "code",
   "execution_count": null,
   "id": "97d0aba3",
   "metadata": {},
   "outputs": [],
   "source": []
  }
 ],
 "metadata": {
  "kernelspec": {
   "display_name": "Python 3 (ipykernel)",
   "language": "python",
   "name": "python3"
  },
  "language_info": {
   "codemirror_mode": {
    "name": "ipython",
    "version": 3
   },
   "file_extension": ".py",
   "mimetype": "text/x-python",
   "name": "python",
   "nbconvert_exporter": "python",
   "pygments_lexer": "ipython3",
   "version": "3.9.13"
  }
 },
 "nbformat": 4,
 "nbformat_minor": 5
}
