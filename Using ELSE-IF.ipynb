{
 "cells": [
  {
   "cell_type": "markdown",
   "id": "142e0747",
   "metadata": {},
   "source": [
    "### ELIF"
   ]
  },
  {
   "cell_type": "code",
   "execution_count": 2,
   "id": "26e80ca1",
   "metadata": {},
   "outputs": [
    {
     "name": "stdout",
     "output_type": "stream",
     "text": [
      "3\n",
      "3\n",
      "1\n",
      "3\n"
     ]
    }
   ],
   "source": [
    "### Finding Largest\n",
    "### Given three numbers(a, b and c), we want to print out the largest number\n",
    "a = int(input())\n",
    "b = int(input())\n",
    "c = int(input())\n",
    "\n",
    "if a >= b and a >= c:\n",
    "    print(a)\n",
    "elif b >= a and b >= c:\n",
    "    print(b)\n",
    "else:\n",
    "    print(c)"
   ]
  },
  {
   "cell_type": "code",
   "execution_count": 6,
   "id": "b6d18782",
   "metadata": {},
   "outputs": [
    {
     "name": "stdout",
     "output_type": "stream",
     "text": [
      "30\n",
      "red\n"
     ]
    }
   ],
   "source": [
    "'''\n",
    "if n > 10, print red\n",
    "if n is b/w 5 to 10, print green\n",
    "if n is b/w 0 to 5, print yellow\n",
    "if n is less than 0, don't do anything\n",
    "\n",
    "'''\n",
    "\n",
    "n = int(input())\n",
    "if n > 10:\n",
    "    print(\"red\")\n",
    "elif n >= 5:\n",
    "    print(\"green\")\n",
    "elif n > 0:\n",
    "    print(\"yellow\")\n",
    "### Don't need to write else, if we want we can"
   ]
  },
  {
   "cell_type": "code",
   "execution_count": 7,
   "id": "03a73b9b",
   "metadata": {},
   "outputs": [
    {
     "name": "stdout",
     "output_type": "stream",
     "text": [
      "20\n",
      "green\n"
     ]
    }
   ],
   "source": [
    "### The following code is not valid because green gets printed for the input number 20\n",
    "### Because it will check the first condition first\n",
    "### Therefore the order of IF-ELSE matters a lot\n",
    "n = int(input())\n",
    "if n >= 5:\n",
    "    print(\"green\")\n",
    "elif n > 10:\n",
    "    print(\"red\")\n",
    "elif n > 0:\n",
    "    print(\"yellow\")"
   ]
  }
 ],
 "metadata": {
  "kernelspec": {
   "display_name": "Python 3 (ipykernel)",
   "language": "python",
   "name": "python3"
  },
  "language_info": {
   "codemirror_mode": {
    "name": "ipython",
    "version": 3
   },
   "file_extension": ".py",
   "mimetype": "text/x-python",
   "name": "python",
   "nbconvert_exporter": "python",
   "pygments_lexer": "ipython3",
   "version": "3.9.13"
  }
 },
 "nbformat": 4,
 "nbformat_minor": 5
}
