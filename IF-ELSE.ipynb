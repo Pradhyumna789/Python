{
 "cells": [
  {
   "cell_type": "markdown",
   "id": "1b4ae360",
   "metadata": {},
   "source": [
    "### IF ELSE"
   ]
  },
  {
   "cell_type": "code",
   "execution_count": null,
   "id": "631a6d50",
   "metadata": {},
   "outputs": [],
   "source": [
    "IF (this condition is true):\n",
    "    ## This code will get executed\n",
    "Else:\n",
    "    ## This code will get executed"
   ]
  },
  {
   "cell_type": "code",
   "execution_count": 3,
   "id": "aef5d104",
   "metadata": {},
   "outputs": [
    {
     "name": "stdout",
     "output_type": "stream",
     "text": [
      "I am inside if\n",
      "Hi\n"
     ]
    }
   ],
   "source": [
    "a = True\n",
    "if a:\n",
    "    print(\"I am inside if\")\n",
    "    print(\"Hi\")\n",
    "else:\n",
    "    print(\"I am in else\")"
   ]
  },
  {
   "cell_type": "code",
   "execution_count": 4,
   "id": "4df747a8",
   "metadata": {},
   "outputs": [
    {
     "name": "stdout",
     "output_type": "stream",
     "text": [
      "10\n",
      "n is even\n"
     ]
    }
   ],
   "source": [
    "# Check number to be odd or even\n",
    "n = int(input())\n",
    "r = n % 2\n",
    "is_even = (r == 0) ## is_even becomes true if r is 0 otherwise is_even becomes false\n",
    "\n",
    "if is_even:\n",
    "    print(\"n is even\")\n",
    "else:\n",
    "    print(\"n is odd\")"
   ]
  },
  {
   "cell_type": "code",
   "execution_count": 5,
   "id": "49f486d5",
   "metadata": {},
   "outputs": [
    {
     "name": "stdout",
     "output_type": "stream",
     "text": [
      "5\n",
      "n is odd\n"
     ]
    }
   ],
   "source": [
    "n = int(input())\n",
    "is_even = r % 2\n",
    "\n",
    "if is_even:\n",
    "    print(\"n is even\")\n",
    "else:\n",
    "    print(\"n is odd\")"
   ]
  },
  {
   "cell_type": "code",
   "execution_count": 6,
   "id": "a9cf2a18",
   "metadata": {},
   "outputs": [
    {
     "name": "stdout",
     "output_type": "stream",
     "text": [
      "5\n",
      "n is odd\n"
     ]
    }
   ],
   "source": [
    "n = int(input())\n",
    "\n",
    "if (n % 2 == 0):\n",
    "    print(\"n is even\")\n",
    "else:\n",
    "    print(\"n is odd\")"
   ]
  },
  {
   "cell_type": "code",
   "execution_count": 8,
   "id": "40b94305",
   "metadata": {},
   "outputs": [
    {
     "name": "stdout",
     "output_type": "stream",
     "text": [
      "3\n"
     ]
    }
   ],
   "source": [
    "### It is not necessary to give else, we can ignore it\n",
    "n = int(input())\n",
    "\n",
    "if (n % 2 == 0):\n",
    "    print(\"n is even\")\n",
    "    \n",
    "### prints nothing if we give number - 3 as an input"
   ]
  },
  {
   "cell_type": "code",
   "execution_count": 9,
   "id": "1355301f",
   "metadata": {},
   "outputs": [
    {
     "name": "stdout",
     "output_type": "stream",
     "text": [
      "This is an equilateral triangle\n"
     ]
    }
   ],
   "source": [
    "### Output of the following program will be :\n",
    "    \n",
    "a = 5\n",
    "b = 5\n",
    "c = 5\n",
    "\n",
    "if (a != b) and (b != c) and (a != c):\n",
    "    print('This is a scalene triangle')\n",
    "\n",
    "elif (a == b) and (b == c):\n",
    "    print('This is an equilateral triangle')\n",
    "\n",
    "else:\n",
    "    print('This is an isosceles triangle')"
   ]
  },
  {
   "cell_type": "code",
   "execution_count": 10,
   "id": "7a3b23a9",
   "metadata": {},
   "outputs": [
    {
     "name": "stdout",
     "output_type": "stream",
     "text": [
      "too low\n"
     ]
    }
   ],
   "source": [
    "### Output of the following program will be :\n",
    "    \n",
    "n = 10\n",
    "\n",
    "\n",
    "if n>0 and n<=10:\n",
    "    print(\"too low\")\n",
    "\n",
    "elif n>10 and n<=20:\n",
    "    print(\"medium\")\n",
    "\n",
    "elif n>20 and n<=30:\n",
    "    print(\"large\")\n",
    "\n",
    "else:\n",
    "    print(\"too large\")"
   ]
  },
  {
   "cell_type": "code",
   "execution_count": 11,
   "id": "dd5d8342",
   "metadata": {},
   "outputs": [
    {
     "name": "stdout",
     "output_type": "stream",
     "text": [
      "Hello\n",
      "Hi\n"
     ]
    }
   ],
   "source": [
    "### Consider the following piece of code -\n",
    "\n",
    "x = 5\n",
    "if x < 6:\n",
    "    print(\"Hello\")\n",
    "if x == 5:\n",
    "    print(\"Hi\")\n",
    "else:\n",
    "    print(\"Hey\")\n"
   ]
  }
 ],
 "metadata": {
  "kernelspec": {
   "display_name": "Python 3 (ipykernel)",
   "language": "python",
   "name": "python3"
  },
  "language_info": {
   "codemirror_mode": {
    "name": "ipython",
    "version": 3
   },
   "file_extension": ".py",
   "mimetype": "text/x-python",
   "name": "python",
   "nbconvert_exporter": "python",
   "pygments_lexer": "ipython3",
   "version": "3.9.13"
  }
 },
 "nbformat": 4,
 "nbformat_minor": 5
}
