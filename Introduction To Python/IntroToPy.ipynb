{
 "cells": [
  {
   "cell_type": "markdown",
   "id": "3b95b712",
   "metadata": {},
   "source": [
    "### Find average Marks\n",
    "\n",
    "Write a program to input marks of three tests of a student (all integers). Then calculate and print the average of all test marks.\n",
    "\n",
    "Input format :\n",
    "\n",
    "3 Test marks (in different lines)\n",
    "\n",
    "Output format :\n",
    "\n",
    "Average \n",
    "\n",
    "Sample Input 1 :\n",
    "\n",
    "3 \n",
    "4 \n",
    "6\n",
    "\n",
    "Sample Output 1 :\n",
    "\n",
    "4.333333333333333\n",
    "\n",
    "Sample Input 2 :\n",
    "\n",
    "5 \n",
    "10 \n",
    "5\n",
    "\n",
    "Sample Output 2 :\n",
    "\n",
    "6.666666666666667\n",
    "\n"
   ]
  },
  {
   "cell_type": "code",
   "execution_count": 62,
   "id": "04e9c586",
   "metadata": {},
   "outputs": [
    {
     "name": "stdout",
     "output_type": "stream",
     "text": [
      "2\n",
      "10\n",
      "15\n",
      "9\n",
      "9.0\n"
     ]
    }
   ],
   "source": [
    "a = int(input())\n",
    "b = int(input())\n",
    "c = int(input())\n",
    "\n",
    "avg = (a + b + c) // 3\n",
    "average = (a + b + c) / 3\n",
    "print(avg) # prints 3\n",
    "print(average) # prints 3.0"
   ]
  },
  {
   "cell_type": "markdown",
   "id": "291c3d4e",
   "metadata": {},
   "source": [
    "### Find X raised to power N\n",
    "\n",
    "You are given two integers: X and N. You have to calculate X raised to power N and print it.\n",
    "\n",
    "Input format:\n",
    "\n",
    "The first line of input contains an integer X (1 <= X <= 100)\n",
    "The second line of input contains an integer N (1 <= N <= 10) \n",
    "\n",
    "Constraints:\n",
    "\n",
    "Time Limit: 1 second\n",
    "\n",
    "Output format:\n",
    "\n",
    "The first and only line of output contains the result.  \n",
    "\n",
    "Sample Input:\n",
    "\n",
    "10\n",
    "4\n",
    "\n",
    "\n",
    "Sample Output:\n",
    "\n",
    "10000\n",
    "\n"
   ]
  },
  {
   "cell_type": "code",
   "execution_count": 63,
   "id": "06697e9d",
   "metadata": {},
   "outputs": [
    {
     "name": "stdout",
     "output_type": "stream",
     "text": [
      "2\n",
      "3\n",
      "8\n"
     ]
    }
   ],
   "source": [
    "X = int(input())\n",
    "N = int(input())\n",
    "print(X ** N)"
   ]
  },
  {
   "cell_type": "markdown",
   "id": "20b8b489",
   "metadata": {},
   "source": [
    "### Arithmetic Progression\n",
    "\n",
    "You are given first three entries of an arithmetic progression. You have to calculate the common difference and print it.\n",
    "Input format:\n",
    "\n",
    "The first line of input contains an integer a (1 <= a <= 100)\n",
    "The second line of input contains an integer b (1 <= b <= 100) \n",
    "The third line of input contains an integer c (1 <= c <= 100) \n",
    "\n",
    "Constraints:\n",
    "\n",
    "Time Limit: 1 second\n",
    "\n",
    "Output format:\n",
    "\n",
    "The first and only line of output contains the result.  \n",
    "\n",
    "Sample Input:\n",
    "\n",
    "1\n",
    "3\n",
    "5\n",
    "\n",
    "Sample Output:\n",
    "\n",
    "2\n",
    "\n"
   ]
  },
  {
   "cell_type": "code",
   "execution_count": 66,
   "id": "c081b766",
   "metadata": {},
   "outputs": [
    {
     "name": "stdout",
     "output_type": "stream",
     "text": [
      "1\n",
      "3\n",
      "5\n",
      "2\n"
     ]
    }
   ],
   "source": [
    "a = int(input())\n",
    "b = int(input())\n",
    "c = int(input())\n",
    "comm_diff = b - a\n",
    "print(comm_diff)"
   ]
  },
  {
   "cell_type": "markdown",
   "id": "af155416",
   "metadata": {},
   "source": [
    "### Rectangular Area\n",
    "\n",
    "You are given a rectangle in a plane. The coordinates of one of its diagonals are provided to you. You have to print the total area of the rectangle.\n",
    "The coordinates of the rectangle are provided as four integral values: x1, y1, x2, y2. It is given that x1 < x2 and y1 < y2.\n",
    "\n",
    "\n",
    "Input format:\n",
    "\n",
    "The first line of input contains an integer x1 \n",
    "The second line of input contains an integer y1  \n",
    "The third line of input contains an integer x2 \n",
    "The fourth line of input contains an integer y2 \n",
    "\n",
    "Constraints:\n",
    "\n",
    "1 <= x1 <= 10\n",
    "1 <= y1 <= 10\n",
    "1 <= x2 <= 10\n",
    "1 <= y2 <= 10 \n",
    "Time Limit: 1 second\n",
    "\n",
    "Output format:\n",
    "\n",
    "The first and only line of output contains the result.  \n",
    "\n",
    "Sample Input:\n",
    "\n",
    "1\n",
    "1\n",
    "3\n",
    "3\n",
    "\n",
    "Sample Output:\n",
    "\n",
    "4\n",
    "\n",
    "Explanation:\n",
    "\n",
    "The given coordinates of the diagonal are (x1,y1) = (1,1) and (x2,y2) = (3, 3). \n",
    "The area of the rectangle can then easily be calculated as: \n",
    "(3 – 1) * ( 3 – 1) = 2 * 2 = 4 \n"
   ]
  },
  {
   "cell_type": "code",
   "execution_count": 68,
   "id": "17fefc69",
   "metadata": {},
   "outputs": [
    {
     "name": "stdout",
     "output_type": "stream",
     "text": [
      "1\n",
      "1\n",
      "3\n",
      "3\n",
      "4\n"
     ]
    }
   ],
   "source": [
    "x1 = int(input())\n",
    "y1 = int(input())\n",
    "x2 = int(input())\n",
    "y2 = int(input())\n",
    "Area = ((x2 - x1) * (y2 - y1))\n",
    "print(Area)"
   ]
  },
  {
   "cell_type": "code",
   "execution_count": null,
   "id": "3bfe919f",
   "metadata": {},
   "outputs": [],
   "source": []
  }
 ],
 "metadata": {
  "kernelspec": {
   "display_name": "Python 3 (ipykernel)",
   "language": "python",
   "name": "python3"
  },
  "language_info": {
   "codemirror_mode": {
    "name": "ipython",
    "version": 3
   },
   "file_extension": ".py",
   "mimetype": "text/x-python",
   "name": "python",
   "nbconvert_exporter": "python",
   "pygments_lexer": "ipython3",
   "version": "3.9.13"
  }
 },
 "nbformat": 4,
 "nbformat_minor": 5
}
