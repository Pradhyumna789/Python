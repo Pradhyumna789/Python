{
 "cells": [
  {
   "cell_type": "markdown",
   "id": "71dfba82",
   "metadata": {},
   "source": [
    "# Access Modifiers"
   ]
  },
  {
   "cell_type": "code",
   "execution_count": 13,
   "id": "823eea02",
   "metadata": {},
   "outputs": [
    {
     "name": "stdout",
     "output_type": "stream",
     "text": [
      "20\n"
     ]
    }
   ],
   "source": [
    "class Student :\n",
    "    totalStudents = 20\n",
    "    classTeacherName = \"Komal\"\n",
    "    \n",
    "    def __init__(self, name, age) :\n",
    "        self.__name = name\n",
    "        self.age = age\n",
    "        \n",
    "    def getName(self) :\n",
    "        return self.__name\n",
    "    \n",
    "    def setName(self, name) :\n",
    "        self.__name = name\n",
    "    \n",
    "\n",
    "s1 = Student(\"Mohit\", 20)    \n",
    "print(s1.age) # Accessing the public property \"age\""
   ]
  },
  {
   "cell_type": "code",
   "execution_count": 14,
   "id": "bcce9f12",
   "metadata": {},
   "outputs": [
    {
     "name": "stdout",
     "output_type": "stream",
     "text": [
      "Mohit\n"
     ]
    }
   ],
   "source": [
    "# Accessing private properties from outside the class\n",
    "# Here, in the below code we are accessing the private property \"name\" through the public getter method function \"getName\"\n",
    "print(s1.getName())"
   ]
  },
  {
   "cell_type": "code",
   "execution_count": 15,
   "id": "ab029933",
   "metadata": {},
   "outputs": [
    {
     "name": "stdout",
     "output_type": "stream",
     "text": [
      "abc 20\n"
     ]
    }
   ],
   "source": [
    "s1.setName(\"abc\") # setting the value of the private property \"name\" throught public method function \"setter\"\n",
    "print(s1.getName(), s1.age)"
   ]
  },
  {
   "cell_type": "markdown",
   "id": "9b59398f",
   "metadata": {},
   "source": [
    "# Class methods"
   ]
  },
  {
   "cell_type": "code",
   "execution_count": null,
   "id": "4a33c538",
   "metadata": {},
   "outputs": [],
   "source": []
  }
 ],
 "metadata": {
  "kernelspec": {
   "display_name": "Python 3 (ipykernel)",
   "language": "python",
   "name": "python3"
  },
  "language_info": {
   "codemirror_mode": {
    "name": "ipython",
    "version": 3
   },
   "file_extension": ".py",
   "mimetype": "text/x-python",
   "name": "python",
   "nbconvert_exporter": "python",
   "pygments_lexer": "ipython3",
   "version": "3.9.13"
  }
 },
 "nbformat": 4,
 "nbformat_minor": 5
}
