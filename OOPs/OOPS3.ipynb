{
 "cells": [
  {
   "cell_type": "markdown",
   "id": "6383b29c",
   "metadata": {},
   "source": [
    "# Constructors\n",
    "\n",
    "1. A constructor is a special instance method which is used to initialize the properties of our object.\n",
    "\n",
    "2. The constructor is automatically called as soon as we create our object.\n",
    "\n",
    "3. In python, only one constructor is allowed to be created, that is, constructor overloading is not allowed unlike in C++ and Java. "
   ]
  },
  {
   "cell_type": "code",
   "execution_count": 7,
   "id": "edd3ded6",
   "metadata": {},
   "outputs": [
    {
     "name": "stdout",
     "output_type": "stream",
     "text": [
      "Constructor is called\n",
      "Constructor is called\n"
     ]
    }
   ],
   "source": [
    "class Student :\n",
    "    # class attributes\n",
    "    totalStudents = 20\n",
    "    classTeacherName = \"Komal\"\n",
    "    \n",
    "    # Creating our own constructor\n",
    "    def __init__(self) :\n",
    "        print(\"Constructor is called\") # the statement is printed in the below output whenever the constructor is called\n",
    "        pass\n",
    "    \n",
    "    # Instance methods\n",
    "    \n",
    "    def print(self, str) :\n",
    "        print(self.name)\n",
    "        \n",
    "    def addName(self, name) :\n",
    "        self.name = name\n",
    "        \n",
    "        \n",
    "    # Default constructor is called if we do not create our own constructor    \n",
    "    # In this case the statement \"Constructor is called\" is printed twice because we have created two objects s1 and s2\n",
    "s1 = Student() \n",
    "s2 = Student() "
   ]
  },
  {
   "cell_type": "code",
   "execution_count": 2,
   "id": "713d811c",
   "metadata": {},
   "outputs": [
    {
     "name": "stdout",
     "output_type": "stream",
     "text": [
      "{'name': 'Mohit', 'age': 20, 'rn': 101}\n",
      "{'name': 'Aman', 'age': 21, 'rn': 102}\n"
     ]
    }
   ],
   "source": [
    "class Student :\n",
    "    totalStudents = 20\n",
    "    classTeacherName = \"Komal\"\n",
    "    \n",
    "    def __init__(self, name, age, rn) :\n",
    "        self.name = name\n",
    "        self.age = age\n",
    "        self.rn = rn\n",
    "        \n",
    "        \n",
    "s1 = Student(\"Mohit\", 20, 101)\n",
    "s2 = Student(\"Aman\", 21, 102)\n",
    "\n",
    "print(s1.__dict__)\n",
    "print(s2.__dict__)"
   ]
  },
  {
   "cell_type": "code",
   "execution_count": 3,
   "id": "3e75d2fd",
   "metadata": {},
   "outputs": [
    {
     "name": "stdout",
     "output_type": "stream",
     "text": [
      "{'name': 'Mohit', 'age': 20, 'rn': 101}\n"
     ]
    }
   ],
   "source": [
    "# We can pass default values too - For example\n",
    "\n",
    "class Student :\n",
    "    totalStudents = 20\n",
    "    classTeacherName = \"Komal\"\n",
    "    \n",
    "    def __init__(self, name, age, rn = 101) :\n",
    "        self.name = name\n",
    "        self.age = age\n",
    "        self.rn = rn\n",
    "        \n",
    "        \n",
    "s3 = Student(\"Mohit\", 20) # Even if we do not pass the argument (rn) manually, the default value will be printed \n",
    "print(s3.__dict__)"
   ]
  },
  {
   "cell_type": "code",
   "execution_count": 4,
   "id": "009749a3",
   "metadata": {},
   "outputs": [
    {
     "name": "stdout",
     "output_type": "stream",
     "text": [
      "7\n"
     ]
    }
   ],
   "source": [
    "# Find the output of following code?\n",
    "# Ans - 7\n",
    "\n",
    "class change:\n",
    "     def __init__(self, x, y, z):\n",
    "          self.a = x + y + z\n",
    "x = change(1,2,3) # passing x = 1, y = 2 and z = 3\n",
    "y = getattr(x, 'a') # gets the value of a = 1 + 2 + 3 = 6 and assigns it to y\n",
    "setattr(x, 'a', y+1) # sets the value y = y + 1 = 6 + 1 = 7 and assigns it to the attribute 'a'\n",
    "print(x.a) # prints the attribute \"a\" of the object \"x\" which is 7"
   ]
  },
  {
   "cell_type": "code",
   "execution_count": 5,
   "id": "fb2dedd9",
   "metadata": {},
   "outputs": [
    {
     "ename": "TypeError",
     "evalue": "print_student_details() takes 0 positional arguments but 1 was given",
     "output_type": "error",
     "traceback": [
      "\u001b[0;31m---------------------------------------------------------------------------\u001b[0m",
      "\u001b[0;31mTypeError\u001b[0m                                 Traceback (most recent call last)",
      "\u001b[0;32m/tmp/ipykernel_128639/3321254954.py\u001b[0m in \u001b[0;36m<module>\u001b[0;34m\u001b[0m\n\u001b[1;32m     11\u001b[0m         \u001b[0mprint\u001b[0m\u001b[0;34m(\u001b[0m\u001b[0mself\u001b[0m\u001b[0;34m.\u001b[0m\u001b[0mage\u001b[0m\u001b[0;34m)\u001b[0m\u001b[0;34m\u001b[0m\u001b[0;34m\u001b[0m\u001b[0m\n\u001b[1;32m     12\u001b[0m \u001b[0ms\u001b[0m \u001b[0;34m=\u001b[0m \u001b[0mStudent\u001b[0m\u001b[0;34m(\u001b[0m\u001b[0;34m'Parikh'\u001b[0m\u001b[0;34m,\u001b[0m\u001b[0;36m25\u001b[0m\u001b[0;34m)\u001b[0m\u001b[0;34m\u001b[0m\u001b[0;34m\u001b[0m\u001b[0m\n\u001b[0;32m---> 13\u001b[0;31m \u001b[0ms\u001b[0m\u001b[0;34m.\u001b[0m\u001b[0mprint_student_details\u001b[0m\u001b[0;34m(\u001b[0m\u001b[0;34m)\u001b[0m\u001b[0;34m\u001b[0m\u001b[0;34m\u001b[0m\u001b[0m\n\u001b[0m\u001b[1;32m     14\u001b[0m \u001b[0;34m\u001b[0m\u001b[0m\n",
      "\u001b[0;31mTypeError\u001b[0m: print_student_details() takes 0 positional arguments but 1 was given"
     ]
    }
   ],
   "source": [
    "# What will be the output of the following code?\n",
    "# Ans - will generate an error\n",
    "\n",
    "class Student:\n",
    "    def __init__(self,name,age):\n",
    "        self.name = 'Rohan'\n",
    "        self.age = 20\n",
    "\n",
    "    def print_student_details():\n",
    "        print(self.name, end= \" \")\n",
    "        print(self.age)\n",
    "s = Student('Parikh',25)\n",
    "s.print_student_details()\n",
    "\n"
   ]
  },
  {
   "cell_type": "code",
   "execution_count": null,
   "id": "83e737e2",
   "metadata": {},
   "outputs": [],
   "source": []
  }
 ],
 "metadata": {
  "kernelspec": {
   "display_name": "Python 3 (ipykernel)",
   "language": "python",
   "name": "python3"
  },
  "language_info": {
   "codemirror_mode": {
    "name": "ipython",
    "version": 3
   },
   "file_extension": ".py",
   "mimetype": "text/x-python",
   "name": "python",
   "nbconvert_exporter": "python",
   "pygments_lexer": "ipython3",
   "version": "3.9.13"
  }
 },
 "nbformat": 4,
 "nbformat_minor": 5
}
