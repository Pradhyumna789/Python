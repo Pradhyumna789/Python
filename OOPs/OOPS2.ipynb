{
 "cells": [
  {
   "cell_type": "markdown",
   "id": "e696a028",
   "metadata": {},
   "source": [
    "# Methods"
   ]
  },
  {
   "cell_type": "code",
   "execution_count": 28,
   "id": "5c6dafb1",
   "metadata": {},
   "outputs": [
    {
     "name": "stdout",
     "output_type": "stream",
     "text": [
      "Hello\n",
      "Hello World\n"
     ]
    }
   ],
   "source": [
    "class Student :\n",
    "    \n",
    "    # Class attributes\n",
    "    totalStudents = 20\n",
    "    classTeacherName = \"Einstein\"\n",
    "    \n",
    "    # Instance methods\n",
    "    def helloWorld(self) :\n",
    "        print(\"Hello World\")\n",
    "        \n",
    "    def print(self, str) :\n",
    "        print(str)\n",
    "    \n",
    "    def printName(self) :\n",
    "        name = \"abc\"\n",
    "        print(self.name)\n",
    "        print(name)\n",
    "        \n",
    "    def addName(self, name) :\n",
    "        self.name = name\n",
    "    \n",
    "    def test(self) :\n",
    "        print(Student.totalStudents) # To access the class attribute we will have to specify the class name\n",
    "        Student.test_class = 90 # We can create new class attributes\n",
    "    \n",
    "# Calling an instance method through an object    \n",
    "s1 = Student()    \n",
    "s1.print(\"Hello\")\n",
    "s = Student()\n",
    "s.helloWorld()"
   ]
  },
  {
   "cell_type": "code",
   "execution_count": 30,
   "id": "c9068c47",
   "metadata": {},
   "outputs": [
    {
     "name": "stdout",
     "output_type": "stream",
     "text": [
      "Hello World\n",
      "hi\n"
     ]
    }
   ],
   "source": [
    "# Calling an instance method through a class\n",
    "Student.helloWorld(s1)\n",
    "Student.print(s1, \"hi\")"
   ]
  },
  {
   "cell_type": "code",
   "execution_count": 31,
   "id": "2be955cd",
   "metadata": {},
   "outputs": [],
   "source": [
    "s1.name = \"Harsha\""
   ]
  },
  {
   "cell_type": "code",
   "execution_count": 32,
   "id": "e749f9f8",
   "metadata": {},
   "outputs": [
    {
     "name": "stdout",
     "output_type": "stream",
     "text": [
      "Harsha\n",
      "abc\n"
     ]
    }
   ],
   "source": [
    "s1.printName() \n",
    "# First line - prints self -> name\n",
    "# Second line - prints name which is a local variable of the Instance method printName() "
   ]
  },
  {
   "cell_type": "code",
   "execution_count": 33,
   "id": "4f62a7fd",
   "metadata": {},
   "outputs": [
    {
     "name": "stdout",
     "output_type": "stream",
     "text": [
      "{'name': 'Hari'}\n"
     ]
    }
   ],
   "source": [
    "s1.addName(\"Hari\")\n",
    "print(s1.__dict__)"
   ]
  },
  {
   "cell_type": "code",
   "execution_count": 34,
   "id": "e7c88fc3",
   "metadata": {},
   "outputs": [
    {
     "name": "stdout",
     "output_type": "stream",
     "text": [
      "{'name': 'Aman'}\n"
     ]
    }
   ],
   "source": [
    "s1.addName(\"Aman\")\n",
    "print(s1.__dict__)"
   ]
  },
  {
   "cell_type": "code",
   "execution_count": 35,
   "id": "fe755f05",
   "metadata": {},
   "outputs": [
    {
     "name": "stdout",
     "output_type": "stream",
     "text": [
      "20\n"
     ]
    }
   ],
   "source": [
    "s1.test() # Prints the totalStudents attribute value"
   ]
  },
  {
   "cell_type": "code",
   "execution_count": 37,
   "id": "453e894d",
   "metadata": {},
   "outputs": [
    {
     "name": "stdout",
     "output_type": "stream",
     "text": [
      "1 2 2 "
     ]
    }
   ],
   "source": [
    "# Example - Find the output for the following code\n",
    "class sampleclass: \n",
    "    count = 0     \n",
    "    def increase(self): \n",
    "        sampleclass.count += 1\n",
    "s1 = sampleclass() \n",
    "s1.increase()         \n",
    "print (s1.count,end=\" \") \n",
    "s2 = sampleclass() \n",
    "s2.increase() \n",
    "print (s2.count,end=\" \") \n",
    "print (sampleclass.count,end=\" \") \n",
    "\n"
   ]
  }
 ],
 "metadata": {
  "kernelspec": {
   "display_name": "Python 3 (ipykernel)",
   "language": "python",
   "name": "python3"
  },
  "language_info": {
   "codemirror_mode": {
    "name": "ipython",
    "version": 3
   },
   "file_extension": ".py",
   "mimetype": "text/x-python",
   "name": "python",
   "nbconvert_exporter": "python",
   "pygments_lexer": "ipython3",
   "version": "3.9.13"
  }
 },
 "nbformat": 4,
 "nbformat_minor": 5
}
