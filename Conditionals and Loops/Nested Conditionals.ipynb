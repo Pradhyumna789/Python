{
 "cells": [
  {
   "cell_type": "markdown",
   "id": "21120cb7",
   "metadata": {},
   "source": [
    "# Nested IF-ELSE"
   ]
  },
  {
   "cell_type": "code",
   "execution_count": 2,
   "id": "2c72c2e9",
   "metadata": {},
   "outputs": [
    {
     "name": "stdout",
     "output_type": "stream",
     "text": [
      "0\n",
      "n is even\n",
      "n is zero\n"
     ]
    }
   ],
   "source": [
    "### Let's say we have a number inputted from the user, if n is even print(\"n is even\"), if n is odd print(\"n is odd\"), if n is zero(0) print(\"n is zero\")\n",
    "n = int(input())\n",
    "\n",
    "if n % 2 == 0:\n",
    "    print(\"n is even\")\n",
    "    if(n == 0): ### This if statement can be outside the if-else statement as well\n",
    "        \n",
    "        print(\"n is zero\")\n",
    "else:\n",
    "    print(\"n is odd\")"
   ]
  },
  {
   "cell_type": "code",
   "execution_count": 4,
   "id": "f4a73fcf",
   "metadata": {},
   "outputs": [
    {
     "name": "stdout",
     "output_type": "stream",
     "text": [
      "2\n",
      "2\n",
      "1\n"
     ]
    }
   ],
   "source": [
    "'''\n",
    "\n",
    "If n is even, check for m, if m is even print 1, if m is odd print 2,\n",
    "If n is odd, print 3\n",
    "\n",
    "'''\n",
    "n = int(input())\n",
    "m = int(input())\n",
    "\n",
    "if n % 2 == 0:\n",
    "    if m % 2 == 0:\n",
    "        print(1)\n",
    "    else:\n",
    "        print(2)\n",
    "else:\n",
    "    print(3)"
   ]
  },
  {
   "cell_type": "code",
   "execution_count": 6,
   "id": "b88fc4ce",
   "metadata": {},
   "outputs": [
    {
     "name": "stdout",
     "output_type": "stream",
     "text": [
      "B\n"
     ]
    }
   ],
   "source": [
    "### What will the following code segment print?\n",
    "if (10 < 0) and (0 < -10):\n",
    "     print(\"A\")\n",
    "\n",
    "elif (10 > 0) or False:\n",
    "     print(\"B\")\n",
    "\n",
    "else:\n",
    "     print(\"C\")"
   ]
  },
  {
   "cell_type": "code",
   "execution_count": 7,
   "id": "919b22a7",
   "metadata": {},
   "outputs": [
    {
     "name": "stdout",
     "output_type": "stream",
     "text": [
      "B\n"
     ]
    }
   ],
   "source": [
    "### What will the following code segment print?\n",
    "if True or True:\n",
    "    if False and True or False:\n",
    "        print('A')\n",
    "    elif False and False or True and True:\n",
    "       print('B')\n",
    "    else:\n",
    "      print('C')\n",
    "else:\n",
    "     print('D')"
   ]
  }
 ],
 "metadata": {
  "kernelspec": {
   "display_name": "Python 3 (ipykernel)",
   "language": "python",
   "name": "python3"
  },
  "language_info": {
   "codemirror_mode": {
    "name": "ipython",
    "version": 3
   },
   "file_extension": ".py",
   "mimetype": "text/x-python",
   "name": "python",
   "nbconvert_exporter": "python",
   "pygments_lexer": "ipython3",
   "version": "3.9.13"
  }
 },
 "nbformat": 4,
 "nbformat_minor": 5
}
