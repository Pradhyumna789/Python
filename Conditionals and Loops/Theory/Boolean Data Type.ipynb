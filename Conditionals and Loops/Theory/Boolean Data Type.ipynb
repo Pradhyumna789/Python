{
 "cells": [
  {
   "cell_type": "code",
   "execution_count": 2,
   "id": "56055343",
   "metadata": {
    "scrolled": true
   },
   "outputs": [
    {
     "name": "stdout",
     "output_type": "stream",
     "text": [
      "True\n",
      "False\n"
     ]
    }
   ],
   "source": [
    "a = True\n",
    "b = False\n",
    "\n",
    "print(a)\n",
    "print(b)"
   ]
  },
  {
   "cell_type": "code",
   "execution_count": 3,
   "id": "8e8fbae1",
   "metadata": {},
   "outputs": [
    {
     "name": "stdout",
     "output_type": "stream",
     "text": [
      "<class 'bool'>\n",
      "<class 'bool'>\n"
     ]
    }
   ],
   "source": [
    "print(type(a))\n",
    "print(type(b))"
   ]
  },
  {
   "cell_type": "markdown",
   "id": "a999e043",
   "metadata": {},
   "source": [
    "### Relational Operators\n"
   ]
  },
  {
   "cell_type": "code",
   "execution_count": 6,
   "id": "19dcc4a2",
   "metadata": {},
   "outputs": [
    {
     "name": "stdout",
     "output_type": "stream",
     "text": [
      "False\n",
      "True\n",
      "False\n",
      "True\n",
      "False\n",
      "True\n"
     ]
    }
   ],
   "source": [
    "a = 10\n",
    "b = 20\n",
    "print(a > b)\n",
    "print(a < b)\n",
    "print(a >= b)\n",
    "print(a <= b)\n",
    "print(a == b)\n",
    "print(a != b)"
   ]
  },
  {
   "cell_type": "markdown",
   "id": "7ae4222b",
   "metadata": {},
   "source": [
    "### Logical Operators\n",
    "\n",
    "For (and) operator - both conditions have to be true to get output as true, in every other case the output will be false\n",
    "\n",
    "For (or) operator - One of the conditions have to true for the output to be true, in every other case the output will be false\n",
    "\n",
    "For (not) operator - returns opposite of true which is false and opposite of false which is true"
   ]
  },
  {
   "cell_type": "code",
   "execution_count": 19,
   "id": "e40ff485",
   "metadata": {},
   "outputs": [
    {
     "data": {
      "text/plain": [
       "False"
      ]
     },
     "execution_count": 19,
     "metadata": {},
     "output_type": "execute_result"
    }
   ],
   "source": [
    "c1 = a > 10\n",
    "c2 = b > 10\n",
    "c1 ## c1 is false because 10 is not greater than 10\n"
   ]
  },
  {
   "cell_type": "code",
   "execution_count": 20,
   "id": "1df6db51",
   "metadata": {},
   "outputs": [
    {
     "data": {
      "text/plain": [
       "True"
      ]
     },
     "execution_count": 20,
     "metadata": {},
     "output_type": "execute_result"
    }
   ],
   "source": [
    "c2 ## c2 is true because 20 is greater than 10"
   ]
  },
  {
   "cell_type": "code",
   "execution_count": 21,
   "id": "287aeacd",
   "metadata": {},
   "outputs": [
    {
     "data": {
      "text/plain": [
       "False"
      ]
     },
     "execution_count": 21,
     "metadata": {},
     "output_type": "execute_result"
    }
   ],
   "source": [
    "c1 and c2 ## c1 and c2 have to be true to get output as true"
   ]
  },
  {
   "cell_type": "code",
   "execution_count": 22,
   "id": "eff6d554",
   "metadata": {},
   "outputs": [
    {
     "data": {
      "text/plain": [
       "True"
      ]
     },
     "execution_count": 22,
     "metadata": {},
     "output_type": "execute_result"
    }
   ],
   "source": [
    "c1 or c2 ## c1 is false but c2 is true and that's the reason why the output is true"
   ]
  },
  {
   "cell_type": "code",
   "execution_count": 23,
   "id": "89522713",
   "metadata": {},
   "outputs": [
    {
     "name": "stdout",
     "output_type": "stream",
     "text": [
      "True\n"
     ]
    }
   ],
   "source": [
    "r3 = not(c1)\n",
    "print(r3) ## c1 is false, so not of c1 become true"
   ]
  }
 ],
 "metadata": {
  "kernelspec": {
   "display_name": "Python 3 (ipykernel)",
   "language": "python",
   "name": "python3"
  },
  "language_info": {
   "codemirror_mode": {
    "name": "ipython",
    "version": 3
   },
   "file_extension": ".py",
   "mimetype": "text/x-python",
   "name": "python",
   "nbconvert_exporter": "python",
   "pygments_lexer": "ipython3",
   "version": "3.9.13"
  }
 },
 "nbformat": 4,
 "nbformat_minor": 5
}
