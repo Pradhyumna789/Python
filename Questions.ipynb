{
 "cells": [
  {
   "cell_type": "markdown",
   "id": "aabe9f31",
   "metadata": {},
   "source": [
    "# Check Number\n",
    "\n",
    "- Given an integer n, find if n is positive, negative or 0.\n",
    "- If n is positive, print \"Positive\"\n",
    "- If n is negative, print \"Negative\"\n",
    "- And if n is equal to 0, print \"Zero\".\n",
    "- Input Format :\n",
    "- Integer n\n",
    "- Output Format :\n",
    "- \"Positive\" or \"Negative\" or \"Zero\" (without double quotes)\n",
    "- Constraints :\n",
    "- -100 <= n <= 100\n",
    "- Sample Input 1 :\n",
    "- 10\n",
    "- Sample Output 1 :\n",
    "- Positive\n",
    "- Sample Input 2 :\n",
    "- -10\n",
    "- Sample Output 2 :\n",
    "- Negative"
   ]
  },
  {
   "cell_type": "code",
   "execution_count": 1,
   "id": "9eb4e2e7",
   "metadata": {},
   "outputs": [
    {
     "name": "stdout",
     "output_type": "stream",
     "text": [
      "0\n",
      "Zero\n"
     ]
    }
   ],
   "source": [
    "n = int(input())\n",
    "\n",
    "if(n > 0):\n",
    "    print(\"Positive\")\n",
    "elif (n < 0):\n",
    "    print(\"Negative\")\n",
    "else:\n",
    "    print(\"Zero\")"
   ]
  },
  {
   "cell_type": "markdown",
   "id": "b8acf5dc",
   "metadata": {},
   "source": [
    "# Sum of n numbers\n",
    "\n",
    "- Given an integer n, find and print the sum of numbers - from 1 to n.\n",
    "- Note\n",
    "  Use while loop only.\n",
    "- Input Format :\n",
    "- Integer n\n",
    "- Output Format :\n",
    "- Sum of numbers\n",
    "- Constraints :\n",
    "- 1 <= n <= 100\n",
    "- Sample Input :\n",
    "- 10\n",
    "- Sample Output :\n",
    "- 55"
   ]
  },
  {
   "cell_type": "code",
   "execution_count": 2,
   "id": "9ff0dc29",
   "metadata": {},
   "outputs": [
    {
     "name": "stdout",
     "output_type": "stream",
     "text": [
      "10\n",
      "55\n"
     ]
    }
   ],
   "source": [
    "n = int(input())\n",
    "\n",
    "count = 1\n",
    "sum = 0\n",
    "while(count <= n):\n",
    "    sum = sum + count\n",
    "    count = count + 1\n",
    "print(sum)"
   ]
  },
  {
   "cell_type": "markdown",
   "id": "509cb11d",
   "metadata": {},
   "source": [
    "# Sum of Even Numbers\n",
    "\n",
    "- Given a number N, print sum of all even numbers from 1 to N.\n",
    "- Input Format :\n",
    "- Integer N\n",
    "- Output Format :\n",
    "- Required Sum \n",
    "- Sample Input 1 :\n",
    "-  6\n",
    "- Sample Output 1 :\n",
    "- 12"
   ]
  },
  {
   "cell_type": "code",
   "execution_count": 3,
   "id": "d8c06669",
   "metadata": {},
   "outputs": [
    {
     "name": "stdout",
     "output_type": "stream",
     "text": [
      "10\n",
      "30\n"
     ]
    }
   ],
   "source": [
    "n = int(input())\n",
    "\n",
    "sum = 0\n",
    "currNum = 1\n",
    "\n",
    "while(currNum <= n):\n",
    "    if(currNum % 2 == 0):\n",
    "        sum += currNum\n",
    "    currNum += 1\n",
    "\n",
    "print(sum)\n"
   ]
  },
  {
   "cell_type": "markdown",
   "id": "2b03255a",
   "metadata": {},
   "source": [
    "# Fahrenheit to Celsius\n",
    "\n",
    "- Given three values - Start Fahrenheit Value (S), End - - - Fahrenheit value (E) and Step Size (W), you need to - - - convert all Fahrenheit values from Start to End at the - - gap of W, into their corresponding Celsius values and - - print the table.\n",
    "- Input Format :\n",
    "- 3 integers - S, E and W respectively \n",
    "- Output Format :\n",
    "- Fahrenheit to Celsius conversion table. One line for every Fahrenheit and corresponding Celsius value in integer form. The Fahrenheit value and its corresponding Celsius value should be separate by single space.\n",
    "- Constraints :\n",
    "- 0 <= S <= 90\n",
    "- S <= E <=  900\n",
    "- 0 <= W <= 80 \n",
    "- Sample Input 1:\n",
    "- 0 \n",
    "- 100 \n",
    "- 20\n",
    "- Sample Output 1:\n",
    "- 0   -17\n",
    "- 20  -6\n",
    "- 40  4\n",
    "- 60  15\n",
    "- 80  26\n",
    "- 100 37\n",
    "- Sample Input 2:\n",
    "- 20\n",
    "- 119\n",
    "- 13\n",
    "- Sample Output 2:\n",
    "- 20  -6\n",
    "- 33  0 \n",
    "- 46  7\n",
    "- 59  15\n",
    "- 72  22\n",
    "- 85  29\n",
    "- 98  36\n",
    "- 111 43\n",
    "- Explanation For Input 2:\n",
    "- Start calculating the Celsius values for each Fahrenheit - Value which starts from 20. So starting from 20, we need - to compute its corresponding Celsius value which -  - - - computes to -6. We print this information as <Fahrenheit - Value> <a single space> <Celsius Value> on each line. - - Now add 13 to Fahrenheit Value at each step until you - - reach 119 in this case. You may or may not exactly land - on the end value depending on the steps you are taking."
   ]
  },
  {
   "cell_type": "code",
   "execution_count": 1,
   "id": "01f4d1fe",
   "metadata": {},
   "outputs": [
    {
     "name": "stdout",
     "output_type": "stream",
     "text": [
      "0\n",
      "100\n",
      "20\n",
      "0 -17\n",
      "20 -6\n",
      "40 4\n",
      "60 15\n",
      "80 26\n",
      "100 37\n"
     ]
    }
   ],
   "source": [
    "start = int(input()) ### start fahrenheit value\n",
    "end = int(input()) ### end fahrenheit value\n",
    "step = int(input())\n",
    "\n",
    "currFahVal = start\n",
    "\n",
    "while(currFahVal <= end):\n",
    "    celciusVal = (5.0 / 9) * (currFahVal - 32)\n",
    "    print(str(currFahVal) + \" \" + str(int(celciusVal)))\n",
    "    currFahVal = currFahVal + step"
   ]
  },
  {
   "cell_type": "markdown",
   "id": "e6b367f1",
   "metadata": {},
   "source": [
    "# Calculator\n",
    "\n",
    "### Write a program that performs the tasks of a simple calculator. The program should first take an integer as input and then based on that integer perform the task as given below.\n",
    "1. If the input is 1, then 2 integers are taken from the user and their sum is printed.\n",
    "2. If the input is 2, then 2 integers are taken from the user and their difference(1st number - 2nd number) is printed.\n",
    "3. If the input is 3, then 2 integers are taken from the user and their product is printed.\n",
    "4. If the input is 4, then 2 integers are taken from the user and the quotient obtained (on dividing 1st number by 2nd number) is printed.\n",
    "5. If the input is 5, then 2 integers are taken from the user and their remainder(1st number mod 2nd number) is printed.\n",
    "6. If the input is 6, then the program exits.\n",
    "7. For any other input, then print \"Invalid Operation\".\n",
    "\n",
    "Note: Each answer in next line.\n",
    "Input format:\n",
    "Take integers as input, in accordance to the description of the question. \n",
    "Constraints:\n",
    "Time Limit: 1 second\n",
    "Output format:\n",
    "The output lines must be as prescribed in the description of the question.\n",
    "\n",
    "Sample Input:\n",
    "3\n",
    "1\n",
    "2\n",
    "4\n",
    "4\n",
    "2\n",
    "1\n",
    "3\n",
    "2\n",
    "7\n",
    "6\n",
    "Sample Output:\n",
    "2\n",
    "2\n",
    "5\n",
    "Invalid Operation\n",
    "\n",
    "Explanation of the sample input\n",
    "The first number given is 3, so that means two more numbers will be given and we'll have to multiply them and show the result. The two numbers are 1 and 2. Their product is 2, so 2 is displayed first in the output. Similarly, all the numbers are processed in groups of three. The first number tells the operation and the next two numbers tell on which numbers the operation is done. This applies to numbers from 1 to 5. If the input is 6 (like it is at the end), two more numbers will NOT be provided, you simply have to exit the program. Also, if the input is any number except 1 to 6 (like 7 which is at the second last), then you simply have to print \"Invalid Operation\""
   ]
  },
  {
   "cell_type": "code",
   "execution_count": null,
   "id": "5dcc1d25",
   "metadata": {},
   "outputs": [
    {
     "name": "stdout",
     "output_type": "stream",
     "text": [
      "3\n",
      "2\n",
      "3\n",
      "6\n"
     ]
    }
   ],
   "source": [
    "while True:\n",
    "    operation = int(input())\n",
    "    \n",
    "    if operation == 1:\n",
    "        num1 = int(input())\n",
    "        num2 = int(input())\n",
    "        print(num1 + num2)\n",
    "        \n",
    "    elif operation == 2:\n",
    "        num1 = int(input())\n",
    "        num2 = int(input())\n",
    "        print(num1 - num2)\n",
    "        \n",
    "    elif operation == 3:\n",
    "        num1 = int(input())\n",
    "        num2 = int(input())\n",
    "        print(num1 * num2)\n",
    "        \n",
    "    elif operation == 4:\n",
    "        num1 = int(input())\n",
    "        num2 = int(input())\n",
    "        print(num1 // 2)\n",
    "        \n",
    "    elif operation == 5:\n",
    "        num1 = int(input())\n",
    "        num2 = int(input())\n",
    "        print(num1 % num2)\n",
    "        \n",
    "    elif operation == 6:\n",
    "        break\n",
    "        \n",
    "    else:\n",
    "        print(\"Invalid Operation\")"
   ]
  },
  {
   "cell_type": "markdown",
   "id": "05585eb8",
   "metadata": {},
   "source": [
    "# Write a program to generate the reverse of a given number N. Print the corresponding reverse number.\n",
    "\n",
    "### Write a program to generate the reverse of a given number N. Print the corresponding reverse number.\n",
    "Note : If a number has trailing zeros, then its reverse will not include them. For e.g., reverse of 10400 will be 401 instead of 00401.\n",
    "\n",
    "Input format :\n",
    "Integer N\n",
    "Output format :\n",
    "Corresponding reverse number\n",
    "Constraints:\n",
    "0 <= N < 10^8\n",
    "Sample Input 1 :\n",
    "1234\n",
    "Sample Output 1 :\n",
    "4321\n",
    "Sample Input 2 :\n",
    "1980\n",
    "Sample Output 2 :\n",
    "891\n",
    "\n"
   ]
  },
  {
   "cell_type": "code",
   "execution_count": null,
   "id": "7f9f6d78",
   "metadata": {},
   "outputs": [],
   "source": [
    "num = int(input())\n",
    "reverse = 0\n",
    "temp = num\n",
    "while temp != 0:\n",
    "    remainder = temp % 10\n",
    "    reverse = reverse * 10 + remainder\n",
    "    temp //= 10\n",
    "    \n",
    "print(reverse)"
   ]
  },
  {
   "cell_type": "markdown",
   "id": "939fbf37",
   "metadata": {},
   "source": [
    "# Palindrome number\n",
    "\n",
    "Write a program to determine if given number is palindrome or not. Print true if it is palindrome, false otherwise.\n",
    "Palindrome are the numbers for which reverse is exactly same as the original one. For eg. 121\n",
    "Sample Input 1 :\n",
    "121\n",
    "Sample Output 1 :\n",
    "true\n",
    "Sample Input 2 :\n",
    "1032\n",
    "Sample Output 2 :\n",
    "false"
   ]
  },
  {
   "cell_type": "code",
   "execution_count": null,
   "id": "66e26a50",
   "metadata": {},
   "outputs": [],
   "source": [
    "num = int(input())\n",
    "temp = num\n",
    "rev = 0\n",
    "\n",
    "while temp != 0:\n",
    "    remainder = temp % 10\n",
    "    rev = rev * 10 + remainder\n",
    "    temp //= 10\n",
    "\n",
    "if (num == rev):\n",
    "    print(\"true\")\n",
    "\n",
    "else:\n",
    "    print(\"false\")"
   ]
  },
  {
   "cell_type": "markdown",
   "id": "4e08749f",
   "metadata": {},
   "source": [
    "# Sum of even & odd\n",
    "\n",
    "Write a program to input an integer N and print the sum of all its even digits and sum of all its odd digits separately.\n",
    "Digits mean numbers, not the places! That is, if the given integer is \"13245\", even digits are 2 & 4 and odd digits are 1, 3 & 5.\n",
    "Input format :\n",
    " Integer N\n",
    "Output format :\n",
    "Sum_of_Even_Digits Sum_of_Odd_Digits\n",
    "(Print first even sum and then odd sum separated by space)\n",
    "Constraints\n",
    "0 <= N <= 10^8\n",
    "Sample Input 1:\n",
    "1234\n",
    "Sample Output 1:\n",
    "6 4\n",
    "Sample Input 2:\n",
    "552245\n",
    "Sample Output 2:\n",
    "8 15\n",
    "Explanation for Input 2:\n",
    "For the given input, the even digits are 2, 2 and 4 and if we take the sum of these digits it will come out to be 8(2 + 2 + 4) and similarly, if we look at the odd digits, they are, 5, 5 and 5 which makes a sum of 15(5 + 5 + 5). Hence the answer would be, 8(evenSum) <single space> 15(oddSum)"
   ]
  },
  {
   "cell_type": "code",
   "execution_count": null,
   "id": "b98b8da2",
   "metadata": {},
   "outputs": [],
   "source": [
    "num = int(input())\n",
    "sumEven = 0\n",
    "sumOdd = 0\n",
    "temp = num\n",
    "while (temp != 0):\n",
    "        lastDigit = temp % 10\n",
    "        temp //= 10\n",
    "        if(lastDigit % 2 == 0):\n",
    "            sumEven += lastDigit\n",
    "        else:\n",
    "            sumOdd += lastDigit\n",
    "\n",
    "print(sumEven, sumOdd)"
   ]
  },
  {
   "cell_type": "code",
   "execution_count": null,
   "id": "b07b2d1e",
   "metadata": {},
   "outputs": [],
   "source": []
  }
 ],
 "metadata": {
  "kernelspec": {
   "display_name": "Python 3 (ipykernel)",
   "language": "python",
   "name": "python3"
  },
  "language_info": {
   "codemirror_mode": {
    "name": "ipython",
    "version": 3
   },
   "file_extension": ".py",
   "mimetype": "text/x-python",
   "name": "python",
   "nbconvert_exporter": "python",
   "pygments_lexer": "ipython3",
   "version": "3.9.13"
  }
 },
 "nbformat": 4,
 "nbformat_minor": 5
}
