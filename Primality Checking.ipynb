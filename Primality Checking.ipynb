{
 "cells": [
  {
   "cell_type": "code",
   "execution_count": 11,
   "id": "fe7cdee0",
   "metadata": {},
   "outputs": [
    {
     "name": "stdout",
     "output_type": "stream",
     "text": [
      "10\n",
      "n is not a prime number\n"
     ]
    }
   ],
   "source": [
    "### Given a number we will check if it is a prime number or not\n",
    "### The remainder wont be zero until it is divided by itself or zero\n",
    "'''\n",
    "\n",
    "Simple Solution:\n",
    "\n",
    "Given a number (n), if nothing in the range [2 to n-1] can divide n, it is a prime number, otherwise not a prime number\n",
    "\n",
    "'''\n",
    "\n",
    "n = int(input())\n",
    "d = 2\n",
    "flag = False\n",
    "while(d < n):\n",
    "    if(n % d == 0):\n",
    "        flag = True\n",
    "    d = d + 1\n",
    "    \n",
    "if flag:\n",
    "    print(\"n is not a prime number\")\n",
    "else:\n",
    "    print(\"n is a prime number\")"
   ]
  },
  {
   "cell_type": "code",
   "execution_count": 12,
   "id": "929a79e3",
   "metadata": {},
   "outputs": [
    {
     "ename": "IndentationError",
     "evalue": "expected an indented block (1048561295.py, line 4)",
     "output_type": "error",
     "traceback": [
      "\u001b[0;36m  File \u001b[0;32m\"/tmp/ipykernel_137472/1048561295.py\"\u001b[0;36m, line \u001b[0;32m4\u001b[0m\n\u001b[0;31m    print(i)\u001b[0m\n\u001b[0m    ^\u001b[0m\n\u001b[0;31mIndentationError\u001b[0m\u001b[0;31m:\u001b[0m expected an indented block\n"
     ]
    }
   ],
   "source": [
    "### What will be the output of following code segment?\n",
    "i=0\n",
    "while i<10:\n",
    "print(i)\n",
    "i=i+1\n",
    "\n",
    "### will give an indentation error"
   ]
  },
  {
   "cell_type": "code",
   "execution_count": null,
   "id": "8e524dc9",
   "metadata": {},
   "outputs": [],
   "source": [
    "### What will be the output of following code segment?\n",
    "i=0\n",
    "while i<10:\n",
    "    print(i)\n",
    "i = i+1\n",
    "\n",
    "### infinite time 0 will be printed"
   ]
  },
  {
   "cell_type": "code",
   "execution_count": null,
   "id": "4f24c700",
   "metadata": {},
   "outputs": [],
   "source": [
    "### What will be the output of following code segment?\n",
    "i=0\n",
    "while i<10:\n",
    "    print(i)\n",
    "    i = i+1\n",
    "    \n",
    "### Numbers 0 to 9 will be printed"
   ]
  }
 ],
 "metadata": {
  "kernelspec": {
   "display_name": "Python 3 (ipykernel)",
   "language": "python",
   "name": "python3"
  },
  "language_info": {
   "codemirror_mode": {
    "name": "ipython",
    "version": 3
   },
   "file_extension": ".py",
   "mimetype": "text/x-python",
   "name": "python",
   "nbconvert_exporter": "python",
   "pygments_lexer": "ipython3",
   "version": "3.9.13"
  }
 },
 "nbformat": 4,
 "nbformat_minor": 5
}
